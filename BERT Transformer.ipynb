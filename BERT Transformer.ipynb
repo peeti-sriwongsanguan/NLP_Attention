{
 "cells": [
  {
   "cell_type": "code",
   "execution_count": null,
   "id": "f2651030-b598-4d13-a73b-4aa00bf296c3",
   "metadata": {},
   "outputs": [],
   "source": [
    "!pip install transformers --quiet"
   ]
  },
  {
   "cell_type": "code",
   "execution_count": 1,
   "id": "b35cfb2b",
   "metadata": {},
   "outputs": [
    {
     "name": "stderr",
     "output_type": "stream",
     "text": [
      "[nltk_data] Downloading package word2vec_sample to\n",
      "[nltk_data]     /Users/peeti_mac/nltk_data...\n",
      "[nltk_data]   Package word2vec_sample is already up-to-date!\n",
      "2023-09-23 18:51:16.956677: I tensorflow/core/platform/cpu_feature_guard.cc:182] This TensorFlow binary is optimized to use available CPU instructions in performance-critical operations.\n",
      "To enable the following instructions: AVX2 AVX512F AVX512_VNNI FMA, in other operations, rebuild TensorFlow with the appropriate compiler flags.\n"
     ]
    }
   ],
   "source": [
    "from pkg.word2vec_vocab import docs_to_vocab_ids,embedding_matrix\n",
    "from pkg.show_comparison import make_plot\n",
    "\n",
    "import numpy as np\n",
    "import tensorflow as tf\n",
    "from tensorflow import keras\n",
    "\n",
    "from tensorflow.keras.layers import Embedding, Input, Dense, Lambda\n",
    "from tensorflow.keras.models import Model\n",
    "import tensorflow.keras.backend as K\n",
    "import tensorflow_datasets as tfds\n",
    "\n",
    "from sklearn.model_selection import train_test_split\n",
    "\n",
    "import sklearn as sk\n",
    "import os\n",
    "import nltk\n",
    "from nltk.data import find\n",
    "\n",
    "\n",
    "\n",
    "import re\n",
    "\n",
    "import pandas as pd\n",
    "pd.set_option('max_columns', None)\n",
    "\n",
    "from pkg.data_frame import eda_nltk, remove_tags\n",
    "\n",
    "import matplotlib.pyplot as plt\n",
    "import seaborn as sns\n",
    "sns.set(style=\"white\")\n",
    "sns.set(style=\"whitegrid\", color_codes = True)\n",
    "\n",
    "\n",
    "import warnings\n",
    "warnings.filterwarnings(\"ignore\")\n",
    "\n"
   ]
  },
  {
   "cell_type": "code",
   "execution_count": null,
   "id": "bb4658bf-ade5-4e90-8758-c3d00d556e10",
   "metadata": {},
   "outputs": [],
   "source": []
  },
  {
   "cell_type": "code",
   "execution_count": 2,
   "id": "71af6c9c",
   "metadata": {},
   "outputs": [
    {
     "name": "stdin",
     "output_type": "stream",
     "text": [
      ":  data/reviews_Automotive_5.json.gz\n"
     ]
    },
    {
     "data": {
      "text/html": [
       "<div>\n",
       "<style scoped>\n",
       "    .dataframe tbody tr th:only-of-type {\n",
       "        vertical-align: middle;\n",
       "    }\n",
       "\n",
       "    .dataframe tbody tr th {\n",
       "        vertical-align: top;\n",
       "    }\n",
       "\n",
       "    .dataframe thead th {\n",
       "        text-align: right;\n",
       "    }\n",
       "</style>\n",
       "<table border=\"1\" class=\"dataframe\">\n",
       "  <thead>\n",
       "    <tr style=\"text-align: right;\">\n",
       "      <th></th>\n",
       "      <th>reviewerID</th>\n",
       "      <th>asin</th>\n",
       "      <th>reviewerName</th>\n",
       "      <th>helpful</th>\n",
       "      <th>reviewText</th>\n",
       "      <th>overall</th>\n",
       "      <th>summary</th>\n",
       "      <th>unixReviewTime</th>\n",
       "      <th>reviewTime</th>\n",
       "    </tr>\n",
       "  </thead>\n",
       "  <tbody>\n",
       "    <tr>\n",
       "      <th>0</th>\n",
       "      <td>A3F73SC1LY51OO</td>\n",
       "      <td>B00002243X</td>\n",
       "      <td>Alan Montgomery</td>\n",
       "      <td>[4, 4]</td>\n",
       "      <td>I needed a set of jumper cables for my new car...</td>\n",
       "      <td>5</td>\n",
       "      <td>Work Well - Should Have Bought Longer Ones</td>\n",
       "      <td>1313539200</td>\n",
       "      <td>08 17, 2011</td>\n",
       "    </tr>\n",
       "    <tr>\n",
       "      <th>1</th>\n",
       "      <td>A20S66SKYXULG2</td>\n",
       "      <td>B00002243X</td>\n",
       "      <td>alphonse</td>\n",
       "      <td>[1, 1]</td>\n",
       "      <td>These long cables work fine for my truck, but ...</td>\n",
       "      <td>4</td>\n",
       "      <td>Okay long cables</td>\n",
       "      <td>1315094400</td>\n",
       "      <td>09 4, 2011</td>\n",
       "    </tr>\n",
       "    <tr>\n",
       "      <th>2</th>\n",
       "      <td>A2I8LFSN2IS5EO</td>\n",
       "      <td>B00002243X</td>\n",
       "      <td>Chris</td>\n",
       "      <td>[0, 0]</td>\n",
       "      <td>Can't comment much on these since they have no...</td>\n",
       "      <td>5</td>\n",
       "      <td>Looks and feels heavy Duty</td>\n",
       "      <td>1374710400</td>\n",
       "      <td>07 25, 2013</td>\n",
       "    </tr>\n",
       "    <tr>\n",
       "      <th>3</th>\n",
       "      <td>A3GT2EWQSO45ZG</td>\n",
       "      <td>B00002243X</td>\n",
       "      <td>DeusEx</td>\n",
       "      <td>[19, 19]</td>\n",
       "      <td>I absolutley love Amazon!!!  For the price of ...</td>\n",
       "      <td>5</td>\n",
       "      <td>Excellent choice for Jumper Cables!!!</td>\n",
       "      <td>1292889600</td>\n",
       "      <td>12 21, 2010</td>\n",
       "    </tr>\n",
       "    <tr>\n",
       "      <th>4</th>\n",
       "      <td>A3ESWJPAVRPWB4</td>\n",
       "      <td>B00002243X</td>\n",
       "      <td>E. Hernandez</td>\n",
       "      <td>[0, 0]</td>\n",
       "      <td>I purchased the 12' feet long cable set and th...</td>\n",
       "      <td>5</td>\n",
       "      <td>Excellent, High Quality Starter Cables</td>\n",
       "      <td>1341360000</td>\n",
       "      <td>07 4, 2012</td>\n",
       "    </tr>\n",
       "  </tbody>\n",
       "</table>\n",
       "</div>"
      ],
      "text/plain": [
       "       reviewerID        asin     reviewerName   helpful  \\\n",
       "0  A3F73SC1LY51OO  B00002243X  Alan Montgomery    [4, 4]   \n",
       "1  A20S66SKYXULG2  B00002243X         alphonse    [1, 1]   \n",
       "2  A2I8LFSN2IS5EO  B00002243X            Chris    [0, 0]   \n",
       "3  A3GT2EWQSO45ZG  B00002243X           DeusEx  [19, 19]   \n",
       "4  A3ESWJPAVRPWB4  B00002243X     E. Hernandez    [0, 0]   \n",
       "\n",
       "                                          reviewText  overall  \\\n",
       "0  I needed a set of jumper cables for my new car...        5   \n",
       "1  These long cables work fine for my truck, but ...        4   \n",
       "2  Can't comment much on these since they have no...        5   \n",
       "3  I absolutley love Amazon!!!  For the price of ...        5   \n",
       "4  I purchased the 12' feet long cable set and th...        5   \n",
       "\n",
       "                                      summary  unixReviewTime   reviewTime  \n",
       "0  Work Well - Should Have Bought Longer Ones      1313539200  08 17, 2011  \n",
       "1                            Okay long cables      1315094400   09 4, 2011  \n",
       "2                  Looks and feels heavy Duty      1374710400  07 25, 2013  \n",
       "3       Excellent choice for Jumper Cables!!!      1292889600  12 21, 2010  \n",
       "4      Excellent, High Quality Starter Cables      1341360000   07 4, 2012  "
      ]
     },
     "execution_count": 2,
     "metadata": {},
     "output_type": "execute_result"
    }
   ],
   "source": [
    "dataframe = input(': ') #data/reviews_Automotive_5.json.gz\n",
    "df = eda_nltk(dataframe)\n",
    "df.head()"
   ]
  },
  {
   "cell_type": "markdown",
   "id": "dbaf9ae2",
   "metadata": {},
   "source": [
    "# EDA\n",
    "## add a new column for sentiment\n"
   ]
  },
  {
   "cell_type": "code",
   "execution_count": 3,
   "id": "653272ad",
   "metadata": {},
   "outputs": [
    {
     "name": "stdout",
     "output_type": "stream",
     "text": [
      "(20473, 10)\n"
     ]
    },
    {
     "data": {
      "image/png": "[encoded data removed]",
      "text/plain": [
       "<Figure size 432x288 with 1 Axes>"
      ]
     },
     "metadata": {},
     "output_type": "display_data"
    }
   ],
   "source": [
    "df['positive'] = df.overall.apply(lambda x: 1 if x >= 4 else 0)\n",
    "print(df.shape)\n",
    "\n",
    "review_df = df[['reviewText','positive']]\n",
    "review_df['reviewText']=review_df['reviewText'].apply(lambda cw : remove_tags(cw))\n",
    "\n",
    "\n",
    "sns.countplot(x='positive',data = review_df, palette = 'hls')\n",
    "plt.show()"
   ]
  },
  {
   "cell_type": "markdown",
   "id": "99be9459",
   "metadata": {},
   "source": [
    "## handling the imbalanced data"
   ]
  },
  {
   "cell_type": "code",
   "execution_count": 4,
   "id": "c3d27b63",
   "metadata": {},
   "outputs": [
    {
     "name": "stdout",
     "output_type": "stream",
     "text": [
      "We should select only 2578 count for both positive/ negative review\n"
     ]
    },
    {
     "data": {
      "text/plain": [
       "5156"
      ]
     },
     "execution_count": 4,
     "metadata": {},
     "output_type": "execute_result"
    }
   ],
   "source": [
    "max_cnt = review_df.query('positive == 0').shape[0]\n",
    "print(f'We should select only {max_cnt} count for both positive/ negative review')\n",
    "sample_df = review_df.groupby(['positive']).apply(lambda x: x.sample(max_cnt))\n",
    "sample_df.shape[0]"
   ]
  },
  {
   "cell_type": "code",
   "execution_count": 5,
   "id": "6091c188",
   "metadata": {},
   "outputs": [
    {
     "name": "stdout",
     "output_type": "stream",
     "text": [
      "Average length of each review :  97.588828549263\n",
      "Percentage of reviews with positive sentiment is 50.0%\n",
      "Percentage of reviews with negative sentiment is 50.0%\n"
     ]
    }
   ],
   "source": [
    "s = 0.0\n",
    "for i in sample_df['reviewText']:\n",
    "    word_list = i.split()\n",
    "    s = s + len(word_list)\n",
    "print(\"Average length of each review : \",s/sample_df.shape[0])\n",
    "pos = 0\n",
    "for i in range(sample_df.shape[0]):\n",
    "    if sample_df.iloc[i]['positive'] == 1:\n",
    "        pos = pos + 1\n",
    "neg = sample_df.shape[0]-pos\n",
    "print(\"Percentage of reviews with positive sentiment is \"+str(pos/sample_df.shape[0]*100)+\"%\")\n",
    "print(\"Percentage of reviews with negative sentiment is \"+str(neg/sample_df.shape[0]*100)+\"%\")"
   ]
  },
  {
   "cell_type": "code",
   "execution_count": 6,
   "id": "d5f587d4-f489-4b7a-901b-0b22f6ed98bb",
   "metadata": {},
   "outputs": [],
   "source": [
    "sample_df = sample_df[['reviewText','positive']].reset_index(level=0, drop=True)\n"
   ]
  },
  {
   "cell_type": "markdown",
   "id": "c43f5df7",
   "metadata": {},
   "source": [
    "# let's tokenize the data"
   ]
  },
  {
   "cell_type": "markdown",
   "id": "86b6a246-ae89-4d56-911a-4068ac405f42",
   "metadata": {},
   "source": [
    "For the Transformer library we need to import the tokenizer and the TensorFlow model:"
   ]
  },
  {
   "cell_type": "code",
   "execution_count": 7,
   "id": "599e7765-8952-4e85-b080-ec2dceb0f125",
   "metadata": {},
   "outputs": [],
   "source": [
    "from transformers import BertTokenizer, TFBertModel\n",
    "\n",
    "from transformers import logging\n",
    "logging.set_verbosity_error()"
   ]
  },
  {
   "cell_type": "code",
   "execution_count": null,
   "id": "6e360a79-b852-4601-903e-f022f176d77c",
   "metadata": {},
   "outputs": [],
   "source": []
  },
  {
   "cell_type": "code",
   "execution_count": null,
   "id": "0ded2478-20a0-4a1f-b034-5572537c8851",
   "metadata": {},
   "outputs": [],
   "source": []
  },
  {
   "cell_type": "code",
   "execution_count": null,
   "id": "78b9c513-ee1a-4a1d-8181-21762f473589",
   "metadata": {},
   "outputs": [],
   "source": []
  },
  {
   "cell_type": "code",
   "execution_count": null,
   "id": "45edcdd9-9ebf-4613-abab-45013e90e83b",
   "metadata": {},
   "outputs": [],
   "source": []
  },
  {
   "cell_type": "code",
   "execution_count": null,
   "id": "e618d06e-9fb5-48be-be9d-77730d0eb2c6",
   "metadata": {},
   "outputs": [],
   "source": []
  },
  {
   "cell_type": "code",
   "execution_count": null,
   "id": "45c6839a-9937-464c-9a80-102a3cdf77ea",
   "metadata": {},
   "outputs": [],
   "source": []
  },
  {
   "cell_type": "code",
   "execution_count": null,
   "id": "8d1a8b4d-0214-4f4c-afea-30687d584382",
   "metadata": {},
   "outputs": [],
   "source": []
  },
  {
   "cell_type": "code",
   "execution_count": null,
   "id": "7c1bb969",
   "metadata": {},
   "outputs": [],
   "source": [
    "sample_df[:2]['reviewText'].values"
   ]
  },
  {
   "cell_type": "code",
   "execution_count": null,
   "id": "03770b89-af94-47cc-9ce7-0c720087650c",
   "metadata": {},
   "outputs": [],
   "source": [
    "# tokenizer = AutoTokenizer.from_pretrained('roberta-large')\n",
    "# tr_tok = tokenizer(list(x_train), return_tensors='tf', truncation=True, padding=True, max_length=128)\n"
   ]
  },
  {
   "cell_type": "code",
   "execution_count": 8,
   "id": "52f5329b",
   "metadata": {},
   "outputs": [],
   "source": [
    "X = list(sample_df['reviewText'].values)\n",
    "y = list(sample_df['positive'].values)\n",
    "\n",
    "X_train, X_test, Y_train, Y_test = train_test_split(X,y, test_size = 0.2)"
   ]
  },
  {
   "cell_type": "code",
   "execution_count": 9,
   "id": "0d82b85a-b418-43dc-8aaf-0413d8aba93f",
   "metadata": {},
   "outputs": [
    {
     "data": {
      "text/plain": [
       "['it was not clear from the product description but these are fully enclosed blades designed to keep ice from causing them to lose contact i live in a part of arizona where i don t need that also these are about the ugliest blades i ve ever seen big and blocky i m sure they work great in snow and ice but i don t need that also they don t flex out at the tip as much as regular blades the the outer 3 34 did not even touch on the passenger side of my 2001 tundra windshield with the blade at rest ',\n",
       " 'pulled my jeep out of a puddle with a moderate tug and it has begun to fray after one use looks like it will be around for a little longer but i didn t expect that to happen ',\n",
       " 'first one i ordered came right out of the box with the fan torn off and rattling around in the sealed cage i could see it was broken before i even opened the package bought it from amazon so was able to exchange it for another one very fast delivery returns made simple for sure the next one was just as the other reviews described very difficult to install the batteries but with enough pressure i can install anything i pushed so hard to get the batteries into the thing that i drove the fan support plate up underneath the fan and had to use a thin screw diver to push it back down the fan does work though i guess if the batteries ever die i will need to throw the thing away cause there is no chance that they are coming back out without cracking the housing ']"
      ]
     },
     "execution_count": 9,
     "metadata": {},
     "output_type": "execute_result"
    }
   ],
   "source": [
    "X_train[:3]"
   ]
  },
  {
   "cell_type": "markdown",
   "id": "33e7494e-d342-44d3-83d8-760d5c0e8ae8",
   "metadata": {},
   "source": [
    "# BERT Basics¶\n",
    "\n",
    "We now need to settle on the pre-trained BERT model we want to use. We will leverage 'bert-base-cased'.\n",
    "\n",
    "We need to create the corresponding model and tokenizer:"
   ]
  },
  {
   "cell_type": "code",
   "execution_count": 10,
   "id": "9274e650-fb2b-4997-828b-53da4a8f66d8",
   "metadata": {},
   "outputs": [],
   "source": [
    "checkpoint = 'bert-base-cased'\n",
    "bert_tokenizer = BertTokenizer.from_pretrained(checkpoint)\n",
    "bert_model = TFBertModel.from_pretrained(checkpoint)\n"
   ]
  },
  {
   "cell_type": "code",
   "execution_count": 11,
   "id": "4802ade5-aafd-4c63-b5d2-17bcb41c80e8",
   "metadata": {},
   "outputs": [
    {
     "data": {
      "text/plain": [
       "['This', 'is', 'great', '!']"
      ]
     },
     "execution_count": 11,
     "metadata": {},
     "output_type": "execute_result"
    }
   ],
   "source": [
    "bert_tokenizer.tokenize('This is great!')"
   ]
  },
  {
   "cell_type": "code",
   "execution_count": 12,
   "id": "fb02f774-9be7-4124-b82a-b5dde425a4b3",
   "metadata": {},
   "outputs": [
    {
     "data": {
      "text/plain": [
       "['P', '##ne', '##um', '##onia', 'can', 'be', 'very', 'serious', '.']"
      ]
     },
     "execution_count": 12,
     "metadata": {},
     "output_type": "execute_result"
    }
   ],
   "source": [
    "bert_tokenizer.tokenize('Pneumonia can be very serious.')"
   ]
  },
  {
   "cell_type": "code",
   "execution_count": 13,
   "id": "0c61d6b8-1e9d-4a7c-876e-656910698065",
   "metadata": {},
   "outputs": [
    {
     "data": {
      "text/plain": [
       "['This', 'tree', 'is', '125', '##3', 'years', 'old', '.']"
      ]
     },
     "execution_count": 13,
     "metadata": {},
     "output_type": "execute_result"
    }
   ],
   "source": [
    "bert_tokenizer.tokenize('This tree is 1253 years old.')"
   ]
  },
  {
   "cell_type": "markdown",
   "id": "d9ac752b-5b08-4120-b7ed-83dcda0b0312",
   "metadata": {},
   "source": [
    "Ouch! Many more complex terms are not in BERT's vocabulary and are split up.\n",
    "\n",
    "**Question:** in what type of NLP problems can this lead to complications?\n",
    "\n",
    "Next, how do we generate the BERT input with its tokenizer? Fortunately, by now Huggingface's tokenizer implementation makes this rather straightforward:"
   ]
  },
  {
   "cell_type": "code",
   "execution_count": 21,
   "id": "d17da1f4-ad40-4380-b0af-835010cb54f2",
   "metadata": {},
   "outputs": [
    {
     "data": {
      "text/plain": [
       "{'input_ids': [[101, 1188, 1110, 1632, 106, 102]], 'token_type_ids': [[0, 0, 0, 0, 0, 0]], 'attention_mask': [[1, 1, 1, 1, 1, 1]]}"
      ]
     },
     "execution_count": 21,
     "metadata": {},
     "output_type": "execute_result"
    }
   ],
   "source": [
    "bert_tokenizer(['This is great!'])"
   ]
  },
  {
   "cell_type": "code",
   "execution_count": 22,
   "id": "cadb1dd7-9ffb-4586-92bb-563f075a6016",
   "metadata": {},
   "outputs": [
    {
     "data": {
      "text/plain": [
       "{'input_ids': <tf.Tensor: shape=(2, 10), dtype=int32, numpy=\n",
       "array([[ 101, 1188, 1632,  106,  102,    0,    0,    0,    0,    0],\n",
       "       [ 101, 1188, 1110, 6434,  106,  102,    0,    0,    0,    0]],\n",
       "      dtype=int32)>, 'token_type_ids': <tf.Tensor: shape=(2, 10), dtype=int32, numpy=\n",
       "array([[0, 0, 0, 0, 0, 0, 0, 0, 0, 0],\n",
       "       [0, 0, 0, 0, 0, 0, 0, 0, 0, 0]], dtype=int32)>, 'attention_mask': <tf.Tensor: shape=(2, 10), dtype=int32, numpy=\n",
       "array([[1, 1, 1, 1, 1, 0, 0, 0, 0, 0],\n",
       "       [1, 1, 1, 1, 1, 1, 0, 0, 0, 0]], dtype=int32)>}"
      ]
     },
     "execution_count": 22,
     "metadata": {},
     "output_type": "execute_result"
    }
   ],
   "source": [
    "bert_input = bert_tokenizer(['This great!', 'This is terrible!'],\n",
    "              max_length=10,\n",
    "              truncation=True,\n",
    "              padding='max_length',\n",
    "              return_tensors='tf')\n",
    "\n",
    "bert_input"
   ]
  },
  {
   "cell_type": "markdown",
   "id": "62b37def-81a4-4876-a16f-4afce0b3acbc",
   "metadata": {},
   "source": [
    "\n",
    "\n",
    "[Return to Top](#returnToTop)  \n",
    "<a id = 'BERTClassification'></a>\n",
    "\n",
    "# Text Classification with BERT (using the Pooler Output)\n",
    "\n",
    "The BERT model returns two values that can be exploited for classification purposes. One is the last_hidden_state which is the sequence of hidden-states at the output of the last layer of the model.  The second one is the pooler output, with is the output of the [CLS] token where another linear layer is added on top followed by a tanh. This pooler output can be used for classification purposes.\n",
    "\n",
    "Let us create the data. More will be discussed in class. (We can limit the training and test data sizes for expedience in class.)"
   ]
  },
  {
   "cell_type": "code",
   "execution_count": 14,
   "id": "004e7f87-3d3b-4d41-bfd0-3c067689aed1",
   "metadata": {},
   "outputs": [],
   "source": [
    "# BERT Tokenization of training and test data\n",
    "\n",
    "num_train_examples = 20000      # set number of train examples - 1500 for realtime demo\n",
    "num_test_examples = 5000        # set number of test examples - 500 for realtime demo\n",
    "\n",
    "MAX_SEQUENCE_LENGTH = 128                 # set max_length of the input sequence\n",
    "\n",
    "# all_train_examples = [x.decode('utf-8') for x in X_train.numpy()]\n",
    "# all_test_examples = [x.decode('utf-8') for x in X_test.numpy()]\n",
    "\n",
    "\n",
    "\n",
    "all_train_examples = X_train\n",
    "all_test_examples = X_test\n",
    "\n",
    "\n",
    "x_train = bert_tokenizer(all_train_examples[:num_train_examples],\n",
    "              max_length=MAX_SEQUENCE_LENGTH,\n",
    "              truncation=True,\n",
    "              padding='max_length',\n",
    "              return_tensors='tf')\n",
    "y_train = Y_train[:num_train_examples]\n",
    "\n",
    "x_test = bert_tokenizer(all_test_examples[:num_test_examples],\n",
    "              max_length=MAX_SEQUENCE_LENGTH,\n",
    "              truncation=True,\n",
    "              padding='max_length',\n",
    "              return_tensors='tf')\n",
    "y_test = Y_test[:num_test_examples]"
   ]
  },
  {
   "cell_type": "markdown",
   "id": "e3dec2a9-3824-4107-8830-aae8c3d927c3",
   "metadata": {},
   "source": [
    "### define the model"
   ]
  },
  {
   "cell_type": "code",
   "execution_count": 15,
   "id": "a7701c14-0b59-49bf-ae6d-db49479dbcfc",
   "metadata": {},
   "outputs": [],
   "source": [
    "def create_bert_classification_model(bert_model,\n",
    "                                     num_train_layers=0,\n",
    "                                     hidden_size = 200,\n",
    "                                     dropout=0.3,\n",
    "                                     learning_rate=0.00005):\n",
    "    \"\"\"\n",
    "    Build a simple classification model with BERT. Use the Pooler Output for classification purposes\n",
    "    \"\"\"\n",
    "    if num_train_layers == 0:\n",
    "        # Freeze all layers of pre-trained BERT model\n",
    "        bert_model.trainable = False\n",
    "\n",
    "    elif num_train_layers == 12:\n",
    "        # Train all layers of the BERT model\n",
    "        bert_model.trainable = True\n",
    "\n",
    "    else:\n",
    "        # Restrict training to the num_train_layers outer transformer layers\n",
    "        retrain_layers = []\n",
    "\n",
    "        for retrain_layer_number in range(num_train_layers):\n",
    "\n",
    "            layer_code = '_' + str(11 - retrain_layer_number)\n",
    "            retrain_layers.append(layer_code)\n",
    "\n",
    "\n",
    "        print('retrain layers: ', retrain_layers)\n",
    "\n",
    "        for w in bert_model.weights:\n",
    "            if not any([x in w.name for x in retrain_layers]):\n",
    "                #print('freezing: ', w)\n",
    "                w._trainable = False\n",
    "\n",
    "    input_ids = tf.keras.layers.Input(shape=(MAX_SEQUENCE_LENGTH,), dtype=tf.int64, name='input_ids_layer')\n",
    "    token_type_ids = tf.keras.layers.Input(shape=(MAX_SEQUENCE_LENGTH,), dtype=tf.int64, name='token_type_ids_layer')\n",
    "    attention_mask = tf.keras.layers.Input(shape=(MAX_SEQUENCE_LENGTH,), dtype=tf.int64, name='attention_mask_layer')\n",
    "\n",
    "    bert_inputs = {'input_ids': input_ids,\n",
    "                   'token_type_ids': token_type_ids,\n",
    "                   'attention_mask': attention_mask}\n",
    "\n",
    "    bert_out = bert_model(bert_inputs)\n",
    "\n",
    "    pooler_token = bert_out[1]\n",
    "    #cls_token = bert_out[0][:, 0, :]\n",
    "\n",
    "    hidden = tf.keras.layers.Dense(hidden_size, activation='relu', name='hidden_layer')(pooler_token)\n",
    "\n",
    "\n",
    "    hidden = tf.keras.layers.Dropout(dropout)(hidden)\n",
    "\n",
    "\n",
    "    classification = tf.keras.layers.Dense(1, activation='sigmoid',name='classification_layer')(hidden)\n",
    "\n",
    "    classification_model = tf.keras.Model(inputs=[input_ids, token_type_ids, attention_mask], outputs=[classification])\n",
    "\n",
    "    classification_model.compile(optimizer=tf.keras.optimizers.Adam(learning_rate=learning_rate),\n",
    "                                 loss=tf.keras.losses.BinaryCrossentropy(from_logits=False),\n",
    "                                 metrics='accuracy')\n",
    "\n",
    "    return classification_model"
   ]
  },
  {
   "cell_type": "markdown",
   "id": "f03b2d0a-650f-477d-a996-bec8fc7019d4",
   "metadata": {},
   "source": [
    "We'll call our model now, via the function we just defined, but we'll freeze all of the layers to make the fine tuning go much faster"
   ]
  },
  {
   "cell_type": "code",
   "execution_count": 16,
   "id": "97da4b14-6411-4ab8-8256-c732fa11a2b7",
   "metadata": {},
   "outputs": [],
   "source": [
    "#let's get a fresh instance of the bert_model -- good practice\n",
    "bert_model = TFBertModel.from_pretrained(checkpoint)\n",
    "bert_classification_model = create_bert_classification_model(bert_model, num_train_layers=0)"
   ]
  },
  {
   "cell_type": "code",
   "execution_count": 17,
   "id": "3ed40f3a-50b6-4e19-84f4-9a97428467b7",
   "metadata": {},
   "outputs": [
    {
     "name": "stdout",
     "output_type": "stream",
     "text": [
      "Model: \"model\"\n",
      "__________________________________________________________________________________________________\n",
      " Layer (type)                Output Shape                 Param #   Connected to                  \n",
      "==================================================================================================\n",
      " attention_mask_layer (Inpu  [(None, 128)]                0         []                            \n",
      " tLayer)                                                                                          \n",
      "                                                                                                  \n",
      " input_ids_layer (InputLaye  [(None, 128)]                0         []                            \n",
      " r)                                                                                               \n",
      "                                                                                                  \n",
      " token_type_ids_layer (Inpu  [(None, 128)]                0         []                            \n",
      " tLayer)                                                                                          \n",
      "                                                                                                  \n",
      " tf_bert_model_1 (TFBertMod  TFBaseModelOutputWithPooli   1083102   ['attention_mask_layer[0][0]',\n",
      " el)                         ngAndCrossAttentions(last_   72         'input_ids_layer[0][0]',     \n",
      "                             hidden_state=(None, 128, 7              'token_type_ids_layer[0][0]']\n",
      "                             68),                                                                 \n",
      "                              pooler_output=(None, 768)                                           \n",
      "                             , past_key_values=None, hi                                           \n",
      "                             dden_states=None, attentio                                           \n",
      "                             ns=None, cross_attentions=                                           \n",
      "                             None)                                                                \n",
      "                                                                                                  \n",
      " hidden_layer (Dense)        (None, 200)                  153800    ['tf_bert_model_1[0][1]']     \n",
      "                                                                                                  \n",
      " dropout_74 (Dropout)        (None, 200)                  0         ['hidden_layer[0][0]']        \n",
      "                                                                                                  \n",
      " classification_layer (Dens  (None, 1)                    201       ['dropout_74[0][0]']          \n",
      " e)                                                                                               \n",
      "                                                                                                  \n",
      "==================================================================================================\n",
      "Total params: 108464273 (413.76 MB)\n",
      "Trainable params: 154001 (601.57 KB)\n",
      "Non-trainable params: 108310272 (413.17 MB)\n",
      "__________________________________________________________________________________________________\n"
     ]
    }
   ],
   "source": [
    "#confirm all layers are frozen\n",
    "bert_classification_model.summary()"
   ]
  },
  {
   "cell_type": "code",
   "execution_count": null,
   "id": "e777cc4a-b9c0-4c19-b14a-19bcbbdfa41a",
   "metadata": {},
   "outputs": [],
   "source": []
  },
  {
   "cell_type": "code",
   "execution_count": null,
   "id": "61af5761-fe3b-457c-9465-df130ca03f4e",
   "metadata": {},
   "outputs": [],
   "source": []
  },
  {
   "cell_type": "code",
   "execution_count": 18,
   "id": "f83cf879",
   "metadata": {},
   "outputs": [
    {
     "data": {
      "image/png": "[encoded data removed]",
      "text/plain": [
       "<IPython.core.display.Image object>"
      ]
     },
     "execution_count": 18,
     "metadata": {},
     "output_type": "execute_result"
    }
   ],
   "source": [
    "keras.utils.plot_model(bert_classification_model, show_shapes=True, dpi=90)"
   ]
  },
  {
   "cell_type": "code",
   "execution_count": 19,
   "id": "dab4e9b4-4889-4e3c-923c-f53086d6d261",
   "metadata": {},
   "outputs": [
    {
     "data": {
      "text/plain": [
       "<tf.Tensor: shape=(1032, 128), dtype=int32, numpy=\n",
       "array([[1, 1, 1, ..., 0, 0, 0],\n",
       "       [1, 1, 1, ..., 0, 0, 0],\n",
       "       [1, 1, 1, ..., 1, 1, 1],\n",
       "       ...,\n",
       "       [1, 1, 1, ..., 1, 1, 0],\n",
       "       [1, 1, 1, ..., 1, 1, 1],\n",
       "       [1, 1, 1, ..., 0, 0, 0]], dtype=int32)>"
      ]
     },
     "execution_count": 19,
     "metadata": {},
     "output_type": "execute_result"
    }
   ],
   "source": [
    "x_test.attention_mask"
   ]
  },
  {
   "cell_type": "code",
   "execution_count": 24,
   "id": "930dace2-81d0-44cc-adff-90f563e29d26",
   "metadata": {},
   "outputs": [],
   "source": [
    "def my_func(arg):\n",
    "  arg = tf.convert_to_tensor(arg, dtype=tf.float32)\n",
    "  return arg"
   ]
  },
  {
   "cell_type": "code",
   "execution_count": 26,
   "id": "16a8e2fb-8aa2-406d-9fa9-435f57509fe3",
   "metadata": {},
   "outputs": [],
   "source": [
    "y_train = my_func(y_train)\n",
    "y_test = my_func(y_test)"
   ]
  },
  {
   "cell_type": "code",
   "execution_count": 27,
   "id": "380f536a",
   "metadata": {},
   "outputs": [
    {
     "name": "stdout",
     "output_type": "stream",
     "text": [
      "Epoch 1/2\n",
      "129/129 [==============================] - 780s 6s/step - loss: 0.7171 - accuracy: 0.5182 - val_loss: 0.6799 - val_accuracy: 0.5727\n",
      "Epoch 2/2\n",
      "129/129 [==============================] - 749s 6s/step - loss: 0.6991 - accuracy: 0.5364 - val_loss: 0.6803 - val_accuracy: 0.5727\n"
     ]
    }
   ],
   "source": [
    "bert_classification_model_history = bert_classification_model.fit(\n",
    "    [x_train.input_ids, x_train.token_type_ids, x_train.attention_mask],\n",
    "    y_train,\n",
    "    validation_data=([x_test.input_ids, x_test.token_type_ids, x_test.attention_mask], y_test),\n",
    "    batch_size=32,\n",
    "    epochs=2\n",
    ")"
   ]
  },
  {
   "cell_type": "markdown",
   "id": "ed0828e0-e6f1-41cc-bb35-ee28e28e64e9",
   "metadata": {},
   "source": [
    "using a transformed version of the CLS token (called the pooler output) from the BERT model, which was pre-trained using the next sentence prediction task. It might not capture the useful context from the sentence that we need for our task. So we might need to unfreeze some of the pre-trained BERT layers and update their weights (fine-tune them) for our task.\n",
    "                                                                                                                                                                                                                                                                                                                                                           \n",
    "**What if we just set num_train_layers=4, to unfreeze only the top four layers of the BERT model?**                                                                                                                                                                                                                                                                                                                                                           "
   ]
  },
  {
   "cell_type": "code",
   "execution_count": 28,
   "id": "9cdd8f89-35ef-4d65-8b94-e48c2563f2bd",
   "metadata": {},
   "outputs": [
    {
     "name": "stdout",
     "output_type": "stream",
     "text": [
      "retrain layers:  ['_11', '_10', '_9', '_8']\n",
      "Epoch 1/2\n",
      "WARNING:tensorflow:Gradients do not exist for variables ['tf_bert_model_2/bert/embeddings/word_embeddings/weight:0', 'tf_bert_model_2/bert/embeddings/token_type_embeddings/embeddings:0', 'tf_bert_model_2/bert/embeddings/position_embeddings/embeddings:0', 'tf_bert_model_2/bert/embeddings/LayerNorm/gamma:0', 'tf_bert_model_2/bert/embeddings/LayerNorm/beta:0', 'tf_bert_model_2/bert/encoder/layer_._0/attention/self/query/kernel:0', 'tf_bert_model_2/bert/encoder/layer_._0/attention/self/query/bias:0', 'tf_bert_model_2/bert/encoder/layer_._0/attention/self/key/kernel:0', 'tf_bert_model_2/bert/encoder/layer_._0/attention/self/key/bias:0', 'tf_bert_model_2/bert/encoder/layer_._0/attention/self/value/kernel:0', 'tf_bert_model_2/bert/encoder/layer_._0/attention/self/value/bias:0', 'tf_bert_model_2/bert/encoder/layer_._0/attention/output/dense/kernel:0', 'tf_bert_model_2/bert/encoder/layer_._0/attention/output/dense/bias:0', 'tf_bert_model_2/bert/encoder/layer_._0/attention/output/LayerNorm/gamma:0', 'tf_bert_model_2/bert/encoder/layer_._0/attention/output/LayerNorm/beta:0', 'tf_bert_model_2/bert/encoder/layer_._0/intermediate/dense/kernel:0', 'tf_bert_model_2/bert/encoder/layer_._0/intermediate/dense/bias:0', 'tf_bert_model_2/bert/encoder/layer_._0/output/dense/kernel:0', 'tf_bert_model_2/bert/encoder/layer_._0/output/dense/bias:0', 'tf_bert_model_2/bert/encoder/layer_._0/output/LayerNorm/gamma:0', 'tf_bert_model_2/bert/encoder/layer_._0/output/LayerNorm/beta:0', 'tf_bert_model_2/bert/encoder/layer_._1/attention/self/query/kernel:0', 'tf_bert_model_2/bert/encoder/layer_._1/attention/self/query/bias:0', 'tf_bert_model_2/bert/encoder/layer_._1/attention/self/key/kernel:0', 'tf_bert_model_2/bert/encoder/layer_._1/attention/self/key/bias:0', 'tf_bert_model_2/bert/encoder/layer_._1/attention/self/value/kernel:0', 'tf_bert_model_2/bert/encoder/layer_._1/attention/self/value/bias:0', 'tf_bert_model_2/bert/encoder/layer_._1/attention/output/dense/kernel:0', 'tf_bert_model_2/bert/encoder/layer_._1/attention/output/dense/bias:0', 'tf_bert_model_2/bert/encoder/layer_._1/attention/output/LayerNorm/gamma:0', 'tf_bert_model_2/bert/encoder/layer_._1/attention/output/LayerNorm/beta:0', 'tf_bert_model_2/bert/encoder/layer_._1/intermediate/dense/kernel:0', 'tf_bert_model_2/bert/encoder/layer_._1/intermediate/dense/bias:0', 'tf_bert_model_2/bert/encoder/layer_._1/output/dense/kernel:0', 'tf_bert_model_2/bert/encoder/layer_._1/output/dense/bias:0', 'tf_bert_model_2/bert/encoder/layer_._1/output/LayerNorm/gamma:0', 'tf_bert_model_2/bert/encoder/layer_._1/output/LayerNorm/beta:0', 'tf_bert_model_2/bert/encoder/layer_._2/attention/self/query/kernel:0', 'tf_bert_model_2/bert/encoder/layer_._2/attention/self/query/bias:0', 'tf_bert_model_2/bert/encoder/layer_._2/attention/self/key/kernel:0', 'tf_bert_model_2/bert/encoder/layer_._2/attention/self/key/bias:0', 'tf_bert_model_2/bert/encoder/layer_._2/attention/self/value/kernel:0', 'tf_bert_model_2/bert/encoder/layer_._2/attention/self/value/bias:0', 'tf_bert_model_2/bert/encoder/layer_._2/attention/output/dense/kernel:0', 'tf_bert_model_2/bert/encoder/layer_._2/attention/output/dense/bias:0', 'tf_bert_model_2/bert/encoder/layer_._2/attention/output/LayerNorm/gamma:0', 'tf_bert_model_2/bert/encoder/layer_._2/attention/output/LayerNorm/beta:0', 'tf_bert_model_2/bert/encoder/layer_._2/intermediate/dense/kernel:0', 'tf_bert_model_2/bert/encoder/layer_._2/intermediate/dense/bias:0', 'tf_bert_model_2/bert/encoder/layer_._2/output/dense/kernel:0', 'tf_bert_model_2/bert/encoder/layer_._2/output/dense/bias:0', 'tf_bert_model_2/bert/encoder/layer_._2/output/LayerNorm/gamma:0', 'tf_bert_model_2/bert/encoder/layer_._2/output/LayerNorm/beta:0', 'tf_bert_model_2/bert/encoder/layer_._3/attention/self/query/kernel:0', 'tf_bert_model_2/bert/encoder/layer_._3/attention/self/query/bias:0', 'tf_bert_model_2/bert/encoder/layer_._3/attention/self/key/kernel:0', 'tf_bert_model_2/bert/encoder/layer_._3/attention/self/key/bias:0', 'tf_bert_model_2/bert/encoder/layer_._3/attention/self/value/kernel:0', 'tf_bert_model_2/bert/encoder/layer_._3/attention/self/value/bias:0', 'tf_bert_model_2/bert/encoder/layer_._3/attention/output/dense/kernel:0', 'tf_bert_model_2/bert/encoder/layer_._3/attention/output/dense/bias:0', 'tf_bert_model_2/bert/encoder/layer_._3/attention/output/LayerNorm/gamma:0', 'tf_bert_model_2/bert/encoder/layer_._3/attention/output/LayerNorm/beta:0', 'tf_bert_model_2/bert/encoder/layer_._3/intermediate/dense/kernel:0', 'tf_bert_model_2/bert/encoder/layer_._3/intermediate/dense/bias:0', 'tf_bert_model_2/bert/encoder/layer_._3/output/dense/kernel:0', 'tf_bert_model_2/bert/encoder/layer_._3/output/dense/bias:0', 'tf_bert_model_2/bert/encoder/layer_._3/output/LayerNorm/gamma:0', 'tf_bert_model_2/bert/encoder/layer_._3/output/LayerNorm/beta:0', 'tf_bert_model_2/bert/encoder/layer_._4/attention/self/query/kernel:0', 'tf_bert_model_2/bert/encoder/layer_._4/attention/self/query/bias:0', 'tf_bert_model_2/bert/encoder/layer_._4/attention/self/key/kernel:0', 'tf_bert_model_2/bert/encoder/layer_._4/attention/self/key/bias:0', 'tf_bert_model_2/bert/encoder/layer_._4/attention/self/value/kernel:0', 'tf_bert_model_2/bert/encoder/layer_._4/attention/self/value/bias:0', 'tf_bert_model_2/bert/encoder/layer_._4/attention/output/dense/kernel:0', 'tf_bert_model_2/bert/encoder/layer_._4/attention/output/dense/bias:0', 'tf_bert_model_2/bert/encoder/layer_._4/attention/output/LayerNorm/gamma:0', 'tf_bert_model_2/bert/encoder/layer_._4/attention/output/LayerNorm/beta:0', 'tf_bert_model_2/bert/encoder/layer_._4/intermediate/dense/kernel:0', 'tf_bert_model_2/bert/encoder/layer_._4/intermediate/dense/bias:0', 'tf_bert_model_2/bert/encoder/layer_._4/output/dense/kernel:0', 'tf_bert_model_2/bert/encoder/layer_._4/output/dense/bias:0', 'tf_bert_model_2/bert/encoder/layer_._4/output/LayerNorm/gamma:0', 'tf_bert_model_2/bert/encoder/layer_._4/output/LayerNorm/beta:0', 'tf_bert_model_2/bert/encoder/layer_._5/attention/self/query/kernel:0', 'tf_bert_model_2/bert/encoder/layer_._5/attention/self/query/bias:0', 'tf_bert_model_2/bert/encoder/layer_._5/attention/self/key/kernel:0', 'tf_bert_model_2/bert/encoder/layer_._5/attention/self/key/bias:0', 'tf_bert_model_2/bert/encoder/layer_._5/attention/self/value/kernel:0', 'tf_bert_model_2/bert/encoder/layer_._5/attention/self/value/bias:0', 'tf_bert_model_2/bert/encoder/layer_._5/attention/output/dense/kernel:0', 'tf_bert_model_2/bert/encoder/layer_._5/attention/output/dense/bias:0', 'tf_bert_model_2/bert/encoder/layer_._5/attention/output/LayerNorm/gamma:0', 'tf_bert_model_2/bert/encoder/layer_._5/attention/output/LayerNorm/beta:0', 'tf_bert_model_2/bert/encoder/layer_._5/intermediate/dense/kernel:0', 'tf_bert_model_2/bert/encoder/layer_._5/intermediate/dense/bias:0', 'tf_bert_model_2/bert/encoder/layer_._5/output/dense/kernel:0', 'tf_bert_model_2/bert/encoder/layer_._5/output/dense/bias:0', 'tf_bert_model_2/bert/encoder/layer_._5/output/LayerNorm/gamma:0', 'tf_bert_model_2/bert/encoder/layer_._5/output/LayerNorm/beta:0', 'tf_bert_model_2/bert/encoder/layer_._6/attention/self/query/kernel:0', 'tf_bert_model_2/bert/encoder/layer_._6/attention/self/query/bias:0', 'tf_bert_model_2/bert/encoder/layer_._6/attention/self/key/kernel:0', 'tf_bert_model_2/bert/encoder/layer_._6/attention/self/key/bias:0', 'tf_bert_model_2/bert/encoder/layer_._6/attention/self/value/kernel:0', 'tf_bert_model_2/bert/encoder/layer_._6/attention/self/value/bias:0', 'tf_bert_model_2/bert/encoder/layer_._6/attention/output/dense/kernel:0', 'tf_bert_model_2/bert/encoder/layer_._6/attention/output/dense/bias:0', 'tf_bert_model_2/bert/encoder/layer_._6/attention/output/LayerNorm/gamma:0', 'tf_bert_model_2/bert/encoder/layer_._6/attention/output/LayerNorm/beta:0', 'tf_bert_model_2/bert/encoder/layer_._6/intermediate/dense/kernel:0', 'tf_bert_model_2/bert/encoder/layer_._6/intermediate/dense/bias:0', 'tf_bert_model_2/bert/encoder/layer_._6/output/dense/kernel:0', 'tf_bert_model_2/bert/encoder/layer_._6/output/dense/bias:0', 'tf_bert_model_2/bert/encoder/layer_._6/output/LayerNorm/gamma:0', 'tf_bert_model_2/bert/encoder/layer_._6/output/LayerNorm/beta:0', 'tf_bert_model_2/bert/encoder/layer_._7/attention/self/query/kernel:0', 'tf_bert_model_2/bert/encoder/layer_._7/attention/self/query/bias:0', 'tf_bert_model_2/bert/encoder/layer_._7/attention/self/key/kernel:0', 'tf_bert_model_2/bert/encoder/layer_._7/attention/self/key/bias:0', 'tf_bert_model_2/bert/encoder/layer_._7/attention/self/value/kernel:0', 'tf_bert_model_2/bert/encoder/layer_._7/attention/self/value/bias:0', 'tf_bert_model_2/bert/encoder/layer_._7/attention/output/dense/kernel:0', 'tf_bert_model_2/bert/encoder/layer_._7/attention/output/dense/bias:0', 'tf_bert_model_2/bert/encoder/layer_._7/attention/output/LayerNorm/gamma:0', 'tf_bert_model_2/bert/encoder/layer_._7/attention/output/LayerNorm/beta:0', 'tf_bert_model_2/bert/encoder/layer_._7/intermediate/dense/kernel:0', 'tf_bert_model_2/bert/encoder/layer_._7/intermediate/dense/bias:0', 'tf_bert_model_2/bert/encoder/layer_._7/output/dense/kernel:0', 'tf_bert_model_2/bert/encoder/layer_._7/output/dense/bias:0', 'tf_bert_model_2/bert/encoder/layer_._7/output/LayerNorm/gamma:0', 'tf_bert_model_2/bert/encoder/layer_._7/output/LayerNorm/beta:0', 'tf_bert_model_2/bert/pooler/dense/kernel:0', 'tf_bert_model_2/bert/pooler/dense/bias:0'] when minimizing the loss. If you're using `model.compile()`, did you forget to provide a `loss` argument?\n",
      "WARNING:tensorflow:Gradients do not exist for variables ['tf_bert_model_2/bert/embeddings/word_embeddings/weight:0', 'tf_bert_model_2/bert/embeddings/token_type_embeddings/embeddings:0', 'tf_bert_model_2/bert/embeddings/position_embeddings/embeddings:0', 'tf_bert_model_2/bert/embeddings/LayerNorm/gamma:0', 'tf_bert_model_2/bert/embeddings/LayerNorm/beta:0', 'tf_bert_model_2/bert/encoder/layer_._0/attention/self/query/kernel:0', 'tf_bert_model_2/bert/encoder/layer_._0/attention/self/query/bias:0', 'tf_bert_model_2/bert/encoder/layer_._0/attention/self/key/kernel:0', 'tf_bert_model_2/bert/encoder/layer_._0/attention/self/key/bias:0', 'tf_bert_model_2/bert/encoder/layer_._0/attention/self/value/kernel:0', 'tf_bert_model_2/bert/encoder/layer_._0/attention/self/value/bias:0', 'tf_bert_model_2/bert/encoder/layer_._0/attention/output/dense/kernel:0', 'tf_bert_model_2/bert/encoder/layer_._0/attention/output/dense/bias:0', 'tf_bert_model_2/bert/encoder/layer_._0/attention/output/LayerNorm/gamma:0', 'tf_bert_model_2/bert/encoder/layer_._0/attention/output/LayerNorm/beta:0', 'tf_bert_model_2/bert/encoder/layer_._0/intermediate/dense/kernel:0', 'tf_bert_model_2/bert/encoder/layer_._0/intermediate/dense/bias:0', 'tf_bert_model_2/bert/encoder/layer_._0/output/dense/kernel:0', 'tf_bert_model_2/bert/encoder/layer_._0/output/dense/bias:0', 'tf_bert_model_2/bert/encoder/layer_._0/output/LayerNorm/gamma:0', 'tf_bert_model_2/bert/encoder/layer_._0/output/LayerNorm/beta:0', 'tf_bert_model_2/bert/encoder/layer_._1/attention/self/query/kernel:0', 'tf_bert_model_2/bert/encoder/layer_._1/attention/self/query/bias:0', 'tf_bert_model_2/bert/encoder/layer_._1/attention/self/key/kernel:0', 'tf_bert_model_2/bert/encoder/layer_._1/attention/self/key/bias:0', 'tf_bert_model_2/bert/encoder/layer_._1/attention/self/value/kernel:0', 'tf_bert_model_2/bert/encoder/layer_._1/attention/self/value/bias:0', 'tf_bert_model_2/bert/encoder/layer_._1/attention/output/dense/kernel:0', 'tf_bert_model_2/bert/encoder/layer_._1/attention/output/dense/bias:0', 'tf_bert_model_2/bert/encoder/layer_._1/attention/output/LayerNorm/gamma:0', 'tf_bert_model_2/bert/encoder/layer_._1/attention/output/LayerNorm/beta:0', 'tf_bert_model_2/bert/encoder/layer_._1/intermediate/dense/kernel:0', 'tf_bert_model_2/bert/encoder/layer_._1/intermediate/dense/bias:0', 'tf_bert_model_2/bert/encoder/layer_._1/output/dense/kernel:0', 'tf_bert_model_2/bert/encoder/layer_._1/output/dense/bias:0', 'tf_bert_model_2/bert/encoder/layer_._1/output/LayerNorm/gamma:0', 'tf_bert_model_2/bert/encoder/layer_._1/output/LayerNorm/beta:0', 'tf_bert_model_2/bert/encoder/layer_._2/attention/self/query/kernel:0', 'tf_bert_model_2/bert/encoder/layer_._2/attention/self/query/bias:0', 'tf_bert_model_2/bert/encoder/layer_._2/attention/self/key/kernel:0', 'tf_bert_model_2/bert/encoder/layer_._2/attention/self/key/bias:0', 'tf_bert_model_2/bert/encoder/layer_._2/attention/self/value/kernel:0', 'tf_bert_model_2/bert/encoder/layer_._2/attention/self/value/bias:0', 'tf_bert_model_2/bert/encoder/layer_._2/attention/output/dense/kernel:0', 'tf_bert_model_2/bert/encoder/layer_._2/attention/output/dense/bias:0', 'tf_bert_model_2/bert/encoder/layer_._2/attention/output/LayerNorm/gamma:0', 'tf_bert_model_2/bert/encoder/layer_._2/attention/output/LayerNorm/beta:0', 'tf_bert_model_2/bert/encoder/layer_._2/intermediate/dense/kernel:0', 'tf_bert_model_2/bert/encoder/layer_._2/intermediate/dense/bias:0', 'tf_bert_model_2/bert/encoder/layer_._2/output/dense/kernel:0', 'tf_bert_model_2/bert/encoder/layer_._2/output/dense/bias:0', 'tf_bert_model_2/bert/encoder/layer_._2/output/LayerNorm/gamma:0', 'tf_bert_model_2/bert/encoder/layer_._2/output/LayerNorm/beta:0', 'tf_bert_model_2/bert/encoder/layer_._3/attention/self/query/kernel:0', 'tf_bert_model_2/bert/encoder/layer_._3/attention/self/query/bias:0', 'tf_bert_model_2/bert/encoder/layer_._3/attention/self/key/kernel:0', 'tf_bert_model_2/bert/encoder/layer_._3/attention/self/key/bias:0', 'tf_bert_model_2/bert/encoder/layer_._3/attention/self/value/kernel:0', 'tf_bert_model_2/bert/encoder/layer_._3/attention/self/value/bias:0', 'tf_bert_model_2/bert/encoder/layer_._3/attention/output/dense/kernel:0', 'tf_bert_model_2/bert/encoder/layer_._3/attention/output/dense/bias:0', 'tf_bert_model_2/bert/encoder/layer_._3/attention/output/LayerNorm/gamma:0', 'tf_bert_model_2/bert/encoder/layer_._3/attention/output/LayerNorm/beta:0', 'tf_bert_model_2/bert/encoder/layer_._3/intermediate/dense/kernel:0', 'tf_bert_model_2/bert/encoder/layer_._3/intermediate/dense/bias:0', 'tf_bert_model_2/bert/encoder/layer_._3/output/dense/kernel:0', 'tf_bert_model_2/bert/encoder/layer_._3/output/dense/bias:0', 'tf_bert_model_2/bert/encoder/layer_._3/output/LayerNorm/gamma:0', 'tf_bert_model_2/bert/encoder/layer_._3/output/LayerNorm/beta:0', 'tf_bert_model_2/bert/encoder/layer_._4/attention/self/query/kernel:0', 'tf_bert_model_2/bert/encoder/layer_._4/attention/self/query/bias:0', 'tf_bert_model_2/bert/encoder/layer_._4/attention/self/key/kernel:0', 'tf_bert_model_2/bert/encoder/layer_._4/attention/self/key/bias:0', 'tf_bert_model_2/bert/encoder/layer_._4/attention/self/value/kernel:0', 'tf_bert_model_2/bert/encoder/layer_._4/attention/self/value/bias:0', 'tf_bert_model_2/bert/encoder/layer_._4/attention/output/dense/kernel:0', 'tf_bert_model_2/bert/encoder/layer_._4/attention/output/dense/bias:0', 'tf_bert_model_2/bert/encoder/layer_._4/attention/output/LayerNorm/gamma:0', 'tf_bert_model_2/bert/encoder/layer_._4/attention/output/LayerNorm/beta:0', 'tf_bert_model_2/bert/encoder/layer_._4/intermediate/dense/kernel:0', 'tf_bert_model_2/bert/encoder/layer_._4/intermediate/dense/bias:0', 'tf_bert_model_2/bert/encoder/layer_._4/output/dense/kernel:0', 'tf_bert_model_2/bert/encoder/layer_._4/output/dense/bias:0', 'tf_bert_model_2/bert/encoder/layer_._4/output/LayerNorm/gamma:0', 'tf_bert_model_2/bert/encoder/layer_._4/output/LayerNorm/beta:0', 'tf_bert_model_2/bert/encoder/layer_._5/attention/self/query/kernel:0', 'tf_bert_model_2/bert/encoder/layer_._5/attention/self/query/bias:0', 'tf_bert_model_2/bert/encoder/layer_._5/attention/self/key/kernel:0', 'tf_bert_model_2/bert/encoder/layer_._5/attention/self/key/bias:0', 'tf_bert_model_2/bert/encoder/layer_._5/attention/self/value/kernel:0', 'tf_bert_model_2/bert/encoder/layer_._5/attention/self/value/bias:0', 'tf_bert_model_2/bert/encoder/layer_._5/attention/output/dense/kernel:0', 'tf_bert_model_2/bert/encoder/layer_._5/attention/output/dense/bias:0', 'tf_bert_model_2/bert/encoder/layer_._5/attention/output/LayerNorm/gamma:0', 'tf_bert_model_2/bert/encoder/layer_._5/attention/output/LayerNorm/beta:0', 'tf_bert_model_2/bert/encoder/layer_._5/intermediate/dense/kernel:0', 'tf_bert_model_2/bert/encoder/layer_._5/intermediate/dense/bias:0', 'tf_bert_model_2/bert/encoder/layer_._5/output/dense/kernel:0', 'tf_bert_model_2/bert/encoder/layer_._5/output/dense/bias:0', 'tf_bert_model_2/bert/encoder/layer_._5/output/LayerNorm/gamma:0', 'tf_bert_model_2/bert/encoder/layer_._5/output/LayerNorm/beta:0', 'tf_bert_model_2/bert/encoder/layer_._6/attention/self/query/kernel:0', 'tf_bert_model_2/bert/encoder/layer_._6/attention/self/query/bias:0', 'tf_bert_model_2/bert/encoder/layer_._6/attention/self/key/kernel:0', 'tf_bert_model_2/bert/encoder/layer_._6/attention/self/key/bias:0', 'tf_bert_model_2/bert/encoder/layer_._6/attention/self/value/kernel:0', 'tf_bert_model_2/bert/encoder/layer_._6/attention/self/value/bias:0', 'tf_bert_model_2/bert/encoder/layer_._6/attention/output/dense/kernel:0', 'tf_bert_model_2/bert/encoder/layer_._6/attention/output/dense/bias:0', 'tf_bert_model_2/bert/encoder/layer_._6/attention/output/LayerNorm/gamma:0', 'tf_bert_model_2/bert/encoder/layer_._6/attention/output/LayerNorm/beta:0', 'tf_bert_model_2/bert/encoder/layer_._6/intermediate/dense/kernel:0', 'tf_bert_model_2/bert/encoder/layer_._6/intermediate/dense/bias:0', 'tf_bert_model_2/bert/encoder/layer_._6/output/dense/kernel:0', 'tf_bert_model_2/bert/encoder/layer_._6/output/dense/bias:0', 'tf_bert_model_2/bert/encoder/layer_._6/output/LayerNorm/gamma:0', 'tf_bert_model_2/bert/encoder/layer_._6/output/LayerNorm/beta:0', 'tf_bert_model_2/bert/encoder/layer_._7/attention/self/query/kernel:0', 'tf_bert_model_2/bert/encoder/layer_._7/attention/self/query/bias:0', 'tf_bert_model_2/bert/encoder/layer_._7/attention/self/key/kernel:0', 'tf_bert_model_2/bert/encoder/layer_._7/attention/self/key/bias:0', 'tf_bert_model_2/bert/encoder/layer_._7/attention/self/value/kernel:0', 'tf_bert_model_2/bert/encoder/layer_._7/attention/self/value/bias:0', 'tf_bert_model_2/bert/encoder/layer_._7/attention/output/dense/kernel:0', 'tf_bert_model_2/bert/encoder/layer_._7/attention/output/dense/bias:0', 'tf_bert_model_2/bert/encoder/layer_._7/attention/output/LayerNorm/gamma:0', 'tf_bert_model_2/bert/encoder/layer_._7/attention/output/LayerNorm/beta:0', 'tf_bert_model_2/bert/encoder/layer_._7/intermediate/dense/kernel:0', 'tf_bert_model_2/bert/encoder/layer_._7/intermediate/dense/bias:0', 'tf_bert_model_2/bert/encoder/layer_._7/output/dense/kernel:0', 'tf_bert_model_2/bert/encoder/layer_._7/output/dense/bias:0', 'tf_bert_model_2/bert/encoder/layer_._7/output/LayerNorm/gamma:0', 'tf_bert_model_2/bert/encoder/layer_._7/output/LayerNorm/beta:0', 'tf_bert_model_2/bert/pooler/dense/kernel:0', 'tf_bert_model_2/bert/pooler/dense/bias:0'] when minimizing the loss. If you're using `model.compile()`, did you forget to provide a `loss` argument?\n",
      "WARNING:tensorflow:Gradients do not exist for variables ['tf_bert_model_2/bert/embeddings/word_embeddings/weight:0', 'tf_bert_model_2/bert/embeddings/token_type_embeddings/embeddings:0', 'tf_bert_model_2/bert/embeddings/position_embeddings/embeddings:0', 'tf_bert_model_2/bert/embeddings/LayerNorm/gamma:0', 'tf_bert_model_2/bert/embeddings/LayerNorm/beta:0', 'tf_bert_model_2/bert/encoder/layer_._0/attention/self/query/kernel:0', 'tf_bert_model_2/bert/encoder/layer_._0/attention/self/query/bias:0', 'tf_bert_model_2/bert/encoder/layer_._0/attention/self/key/kernel:0', 'tf_bert_model_2/bert/encoder/layer_._0/attention/self/key/bias:0', 'tf_bert_model_2/bert/encoder/layer_._0/attention/self/value/kernel:0', 'tf_bert_model_2/bert/encoder/layer_._0/attention/self/value/bias:0', 'tf_bert_model_2/bert/encoder/layer_._0/attention/output/dense/kernel:0', 'tf_bert_model_2/bert/encoder/layer_._0/attention/output/dense/bias:0', 'tf_bert_model_2/bert/encoder/layer_._0/attention/output/LayerNorm/gamma:0', 'tf_bert_model_2/bert/encoder/layer_._0/attention/output/LayerNorm/beta:0', 'tf_bert_model_2/bert/encoder/layer_._0/intermediate/dense/kernel:0', 'tf_bert_model_2/bert/encoder/layer_._0/intermediate/dense/bias:0', 'tf_bert_model_2/bert/encoder/layer_._0/output/dense/kernel:0', 'tf_bert_model_2/bert/encoder/layer_._0/output/dense/bias:0', 'tf_bert_model_2/bert/encoder/layer_._0/output/LayerNorm/gamma:0', 'tf_bert_model_2/bert/encoder/layer_._0/output/LayerNorm/beta:0', 'tf_bert_model_2/bert/encoder/layer_._1/attention/self/query/kernel:0', 'tf_bert_model_2/bert/encoder/layer_._1/attention/self/query/bias:0', 'tf_bert_model_2/bert/encoder/layer_._1/attention/self/key/kernel:0', 'tf_bert_model_2/bert/encoder/layer_._1/attention/self/key/bias:0', 'tf_bert_model_2/bert/encoder/layer_._1/attention/self/value/kernel:0', 'tf_bert_model_2/bert/encoder/layer_._1/attention/self/value/bias:0', 'tf_bert_model_2/bert/encoder/layer_._1/attention/output/dense/kernel:0', 'tf_bert_model_2/bert/encoder/layer_._1/attention/output/dense/bias:0', 'tf_bert_model_2/bert/encoder/layer_._1/attention/output/LayerNorm/gamma:0', 'tf_bert_model_2/bert/encoder/layer_._1/attention/output/LayerNorm/beta:0', 'tf_bert_model_2/bert/encoder/layer_._1/intermediate/dense/kernel:0', 'tf_bert_model_2/bert/encoder/layer_._1/intermediate/dense/bias:0', 'tf_bert_model_2/bert/encoder/layer_._1/output/dense/kernel:0', 'tf_bert_model_2/bert/encoder/layer_._1/output/dense/bias:0', 'tf_bert_model_2/bert/encoder/layer_._1/output/LayerNorm/gamma:0', 'tf_bert_model_2/bert/encoder/layer_._1/output/LayerNorm/beta:0', 'tf_bert_model_2/bert/encoder/layer_._2/attention/self/query/kernel:0', 'tf_bert_model_2/bert/encoder/layer_._2/attention/self/query/bias:0', 'tf_bert_model_2/bert/encoder/layer_._2/attention/self/key/kernel:0', 'tf_bert_model_2/bert/encoder/layer_._2/attention/self/key/bias:0', 'tf_bert_model_2/bert/encoder/layer_._2/attention/self/value/kernel:0', 'tf_bert_model_2/bert/encoder/layer_._2/attention/self/value/bias:0', 'tf_bert_model_2/bert/encoder/layer_._2/attention/output/dense/kernel:0', 'tf_bert_model_2/bert/encoder/layer_._2/attention/output/dense/bias:0', 'tf_bert_model_2/bert/encoder/layer_._2/attention/output/LayerNorm/gamma:0', 'tf_bert_model_2/bert/encoder/layer_._2/attention/output/LayerNorm/beta:0', 'tf_bert_model_2/bert/encoder/layer_._2/intermediate/dense/kernel:0', 'tf_bert_model_2/bert/encoder/layer_._2/intermediate/dense/bias:0', 'tf_bert_model_2/bert/encoder/layer_._2/output/dense/kernel:0', 'tf_bert_model_2/bert/encoder/layer_._2/output/dense/bias:0', 'tf_bert_model_2/bert/encoder/layer_._2/output/LayerNorm/gamma:0', 'tf_bert_model_2/bert/encoder/layer_._2/output/LayerNorm/beta:0', 'tf_bert_model_2/bert/encoder/layer_._3/attention/self/query/kernel:0', 'tf_bert_model_2/bert/encoder/layer_._3/attention/self/query/bias:0', 'tf_bert_model_2/bert/encoder/layer_._3/attention/self/key/kernel:0', 'tf_bert_model_2/bert/encoder/layer_._3/attention/self/key/bias:0', 'tf_bert_model_2/bert/encoder/layer_._3/attention/self/value/kernel:0', 'tf_bert_model_2/bert/encoder/layer_._3/attention/self/value/bias:0', 'tf_bert_model_2/bert/encoder/layer_._3/attention/output/dense/kernel:0', 'tf_bert_model_2/bert/encoder/layer_._3/attention/output/dense/bias:0', 'tf_bert_model_2/bert/encoder/layer_._3/attention/output/LayerNorm/gamma:0', 'tf_bert_model_2/bert/encoder/layer_._3/attention/output/LayerNorm/beta:0', 'tf_bert_model_2/bert/encoder/layer_._3/intermediate/dense/kernel:0', 'tf_bert_model_2/bert/encoder/layer_._3/intermediate/dense/bias:0', 'tf_bert_model_2/bert/encoder/layer_._3/output/dense/kernel:0', 'tf_bert_model_2/bert/encoder/layer_._3/output/dense/bias:0', 'tf_bert_model_2/bert/encoder/layer_._3/output/LayerNorm/gamma:0', 'tf_bert_model_2/bert/encoder/layer_._3/output/LayerNorm/beta:0', 'tf_bert_model_2/bert/encoder/layer_._4/attention/self/query/kernel:0', 'tf_bert_model_2/bert/encoder/layer_._4/attention/self/query/bias:0', 'tf_bert_model_2/bert/encoder/layer_._4/attention/self/key/kernel:0', 'tf_bert_model_2/bert/encoder/layer_._4/attention/self/key/bias:0', 'tf_bert_model_2/bert/encoder/layer_._4/attention/self/value/kernel:0', 'tf_bert_model_2/bert/encoder/layer_._4/attention/self/value/bias:0', 'tf_bert_model_2/bert/encoder/layer_._4/attention/output/dense/kernel:0', 'tf_bert_model_2/bert/encoder/layer_._4/attention/output/dense/bias:0', 'tf_bert_model_2/bert/encoder/layer_._4/attention/output/LayerNorm/gamma:0', 'tf_bert_model_2/bert/encoder/layer_._4/attention/output/LayerNorm/beta:0', 'tf_bert_model_2/bert/encoder/layer_._4/intermediate/dense/kernel:0', 'tf_bert_model_2/bert/encoder/layer_._4/intermediate/dense/bias:0', 'tf_bert_model_2/bert/encoder/layer_._4/output/dense/kernel:0', 'tf_bert_model_2/bert/encoder/layer_._4/output/dense/bias:0', 'tf_bert_model_2/bert/encoder/layer_._4/output/LayerNorm/gamma:0', 'tf_bert_model_2/bert/encoder/layer_._4/output/LayerNorm/beta:0', 'tf_bert_model_2/bert/encoder/layer_._5/attention/self/query/kernel:0', 'tf_bert_model_2/bert/encoder/layer_._5/attention/self/query/bias:0', 'tf_bert_model_2/bert/encoder/layer_._5/attention/self/key/kernel:0', 'tf_bert_model_2/bert/encoder/layer_._5/attention/self/key/bias:0', 'tf_bert_model_2/bert/encoder/layer_._5/attention/self/value/kernel:0', 'tf_bert_model_2/bert/encoder/layer_._5/attention/self/value/bias:0', 'tf_bert_model_2/bert/encoder/layer_._5/attention/output/dense/kernel:0', 'tf_bert_model_2/bert/encoder/layer_._5/attention/output/dense/bias:0', 'tf_bert_model_2/bert/encoder/layer_._5/attention/output/LayerNorm/gamma:0', 'tf_bert_model_2/bert/encoder/layer_._5/attention/output/LayerNorm/beta:0', 'tf_bert_model_2/bert/encoder/layer_._5/intermediate/dense/kernel:0', 'tf_bert_model_2/bert/encoder/layer_._5/intermediate/dense/bias:0', 'tf_bert_model_2/bert/encoder/layer_._5/output/dense/kernel:0', 'tf_bert_model_2/bert/encoder/layer_._5/output/dense/bias:0', 'tf_bert_model_2/bert/encoder/layer_._5/output/LayerNorm/gamma:0', 'tf_bert_model_2/bert/encoder/layer_._5/output/LayerNorm/beta:0', 'tf_bert_model_2/bert/encoder/layer_._6/attention/self/query/kernel:0', 'tf_bert_model_2/bert/encoder/layer_._6/attention/self/query/bias:0', 'tf_bert_model_2/bert/encoder/layer_._6/attention/self/key/kernel:0', 'tf_bert_model_2/bert/encoder/layer_._6/attention/self/key/bias:0', 'tf_bert_model_2/bert/encoder/layer_._6/attention/self/value/kernel:0', 'tf_bert_model_2/bert/encoder/layer_._6/attention/self/value/bias:0', 'tf_bert_model_2/bert/encoder/layer_._6/attention/output/dense/kernel:0', 'tf_bert_model_2/bert/encoder/layer_._6/attention/output/dense/bias:0', 'tf_bert_model_2/bert/encoder/layer_._6/attention/output/LayerNorm/gamma:0', 'tf_bert_model_2/bert/encoder/layer_._6/attention/output/LayerNorm/beta:0', 'tf_bert_model_2/bert/encoder/layer_._6/intermediate/dense/kernel:0', 'tf_bert_model_2/bert/encoder/layer_._6/intermediate/dense/bias:0', 'tf_bert_model_2/bert/encoder/layer_._6/output/dense/kernel:0', 'tf_bert_model_2/bert/encoder/layer_._6/output/dense/bias:0', 'tf_bert_model_2/bert/encoder/layer_._6/output/LayerNorm/gamma:0', 'tf_bert_model_2/bert/encoder/layer_._6/output/LayerNorm/beta:0', 'tf_bert_model_2/bert/encoder/layer_._7/attention/self/query/kernel:0', 'tf_bert_model_2/bert/encoder/layer_._7/attention/self/query/bias:0', 'tf_bert_model_2/bert/encoder/layer_._7/attention/self/key/kernel:0', 'tf_bert_model_2/bert/encoder/layer_._7/attention/self/key/bias:0', 'tf_bert_model_2/bert/encoder/layer_._7/attention/self/value/kernel:0', 'tf_bert_model_2/bert/encoder/layer_._7/attention/self/value/bias:0', 'tf_bert_model_2/bert/encoder/layer_._7/attention/output/dense/kernel:0', 'tf_bert_model_2/bert/encoder/layer_._7/attention/output/dense/bias:0', 'tf_bert_model_2/bert/encoder/layer_._7/attention/output/LayerNorm/gamma:0', 'tf_bert_model_2/bert/encoder/layer_._7/attention/output/LayerNorm/beta:0', 'tf_bert_model_2/bert/encoder/layer_._7/intermediate/dense/kernel:0', 'tf_bert_model_2/bert/encoder/layer_._7/intermediate/dense/bias:0', 'tf_bert_model_2/bert/encoder/layer_._7/output/dense/kernel:0', 'tf_bert_model_2/bert/encoder/layer_._7/output/dense/bias:0', 'tf_bert_model_2/bert/encoder/layer_._7/output/LayerNorm/gamma:0', 'tf_bert_model_2/bert/encoder/layer_._7/output/LayerNorm/beta:0', 'tf_bert_model_2/bert/pooler/dense/kernel:0', 'tf_bert_model_2/bert/pooler/dense/bias:0'] when minimizing the loss. If you're using `model.compile()`, did you forget to provide a `loss` argument?\n",
      "WARNING:tensorflow:Gradients do not exist for variables ['tf_bert_model_2/bert/embeddings/word_embeddings/weight:0', 'tf_bert_model_2/bert/embeddings/token_type_embeddings/embeddings:0', 'tf_bert_model_2/bert/embeddings/position_embeddings/embeddings:0', 'tf_bert_model_2/bert/embeddings/LayerNorm/gamma:0', 'tf_bert_model_2/bert/embeddings/LayerNorm/beta:0', 'tf_bert_model_2/bert/encoder/layer_._0/attention/self/query/kernel:0', 'tf_bert_model_2/bert/encoder/layer_._0/attention/self/query/bias:0', 'tf_bert_model_2/bert/encoder/layer_._0/attention/self/key/kernel:0', 'tf_bert_model_2/bert/encoder/layer_._0/attention/self/key/bias:0', 'tf_bert_model_2/bert/encoder/layer_._0/attention/self/value/kernel:0', 'tf_bert_model_2/bert/encoder/layer_._0/attention/self/value/bias:0', 'tf_bert_model_2/bert/encoder/layer_._0/attention/output/dense/kernel:0', 'tf_bert_model_2/bert/encoder/layer_._0/attention/output/dense/bias:0', 'tf_bert_model_2/bert/encoder/layer_._0/attention/output/LayerNorm/gamma:0', 'tf_bert_model_2/bert/encoder/layer_._0/attention/output/LayerNorm/beta:0', 'tf_bert_model_2/bert/encoder/layer_._0/intermediate/dense/kernel:0', 'tf_bert_model_2/bert/encoder/layer_._0/intermediate/dense/bias:0', 'tf_bert_model_2/bert/encoder/layer_._0/output/dense/kernel:0', 'tf_bert_model_2/bert/encoder/layer_._0/output/dense/bias:0', 'tf_bert_model_2/bert/encoder/layer_._0/output/LayerNorm/gamma:0', 'tf_bert_model_2/bert/encoder/layer_._0/output/LayerNorm/beta:0', 'tf_bert_model_2/bert/encoder/layer_._1/attention/self/query/kernel:0', 'tf_bert_model_2/bert/encoder/layer_._1/attention/self/query/bias:0', 'tf_bert_model_2/bert/encoder/layer_._1/attention/self/key/kernel:0', 'tf_bert_model_2/bert/encoder/layer_._1/attention/self/key/bias:0', 'tf_bert_model_2/bert/encoder/layer_._1/attention/self/value/kernel:0', 'tf_bert_model_2/bert/encoder/layer_._1/attention/self/value/bias:0', 'tf_bert_model_2/bert/encoder/layer_._1/attention/output/dense/kernel:0', 'tf_bert_model_2/bert/encoder/layer_._1/attention/output/dense/bias:0', 'tf_bert_model_2/bert/encoder/layer_._1/attention/output/LayerNorm/gamma:0', 'tf_bert_model_2/bert/encoder/layer_._1/attention/output/LayerNorm/beta:0', 'tf_bert_model_2/bert/encoder/layer_._1/intermediate/dense/kernel:0', 'tf_bert_model_2/bert/encoder/layer_._1/intermediate/dense/bias:0', 'tf_bert_model_2/bert/encoder/layer_._1/output/dense/kernel:0', 'tf_bert_model_2/bert/encoder/layer_._1/output/dense/bias:0', 'tf_bert_model_2/bert/encoder/layer_._1/output/LayerNorm/gamma:0', 'tf_bert_model_2/bert/encoder/layer_._1/output/LayerNorm/beta:0', 'tf_bert_model_2/bert/encoder/layer_._2/attention/self/query/kernel:0', 'tf_bert_model_2/bert/encoder/layer_._2/attention/self/query/bias:0', 'tf_bert_model_2/bert/encoder/layer_._2/attention/self/key/kernel:0', 'tf_bert_model_2/bert/encoder/layer_._2/attention/self/key/bias:0', 'tf_bert_model_2/bert/encoder/layer_._2/attention/self/value/kernel:0', 'tf_bert_model_2/bert/encoder/layer_._2/attention/self/value/bias:0', 'tf_bert_model_2/bert/encoder/layer_._2/attention/output/dense/kernel:0', 'tf_bert_model_2/bert/encoder/layer_._2/attention/output/dense/bias:0', 'tf_bert_model_2/bert/encoder/layer_._2/attention/output/LayerNorm/gamma:0', 'tf_bert_model_2/bert/encoder/layer_._2/attention/output/LayerNorm/beta:0', 'tf_bert_model_2/bert/encoder/layer_._2/intermediate/dense/kernel:0', 'tf_bert_model_2/bert/encoder/layer_._2/intermediate/dense/bias:0', 'tf_bert_model_2/bert/encoder/layer_._2/output/dense/kernel:0', 'tf_bert_model_2/bert/encoder/layer_._2/output/dense/bias:0', 'tf_bert_model_2/bert/encoder/layer_._2/output/LayerNorm/gamma:0', 'tf_bert_model_2/bert/encoder/layer_._2/output/LayerNorm/beta:0', 'tf_bert_model_2/bert/encoder/layer_._3/attention/self/query/kernel:0', 'tf_bert_model_2/bert/encoder/layer_._3/attention/self/query/bias:0', 'tf_bert_model_2/bert/encoder/layer_._3/attention/self/key/kernel:0', 'tf_bert_model_2/bert/encoder/layer_._3/attention/self/key/bias:0', 'tf_bert_model_2/bert/encoder/layer_._3/attention/self/value/kernel:0', 'tf_bert_model_2/bert/encoder/layer_._3/attention/self/value/bias:0', 'tf_bert_model_2/bert/encoder/layer_._3/attention/output/dense/kernel:0', 'tf_bert_model_2/bert/encoder/layer_._3/attention/output/dense/bias:0', 'tf_bert_model_2/bert/encoder/layer_._3/attention/output/LayerNorm/gamma:0', 'tf_bert_model_2/bert/encoder/layer_._3/attention/output/LayerNorm/beta:0', 'tf_bert_model_2/bert/encoder/layer_._3/intermediate/dense/kernel:0', 'tf_bert_model_2/bert/encoder/layer_._3/intermediate/dense/bias:0', 'tf_bert_model_2/bert/encoder/layer_._3/output/dense/kernel:0', 'tf_bert_model_2/bert/encoder/layer_._3/output/dense/bias:0', 'tf_bert_model_2/bert/encoder/layer_._3/output/LayerNorm/gamma:0', 'tf_bert_model_2/bert/encoder/layer_._3/output/LayerNorm/beta:0', 'tf_bert_model_2/bert/encoder/layer_._4/attention/self/query/kernel:0', 'tf_bert_model_2/bert/encoder/layer_._4/attention/self/query/bias:0', 'tf_bert_model_2/bert/encoder/layer_._4/attention/self/key/kernel:0', 'tf_bert_model_2/bert/encoder/layer_._4/attention/self/key/bias:0', 'tf_bert_model_2/bert/encoder/layer_._4/attention/self/value/kernel:0', 'tf_bert_model_2/bert/encoder/layer_._4/attention/self/value/bias:0', 'tf_bert_model_2/bert/encoder/layer_._4/attention/output/dense/kernel:0', 'tf_bert_model_2/bert/encoder/layer_._4/attention/output/dense/bias:0', 'tf_bert_model_2/bert/encoder/layer_._4/attention/output/LayerNorm/gamma:0', 'tf_bert_model_2/bert/encoder/layer_._4/attention/output/LayerNorm/beta:0', 'tf_bert_model_2/bert/encoder/layer_._4/intermediate/dense/kernel:0', 'tf_bert_model_2/bert/encoder/layer_._4/intermediate/dense/bias:0', 'tf_bert_model_2/bert/encoder/layer_._4/output/dense/kernel:0', 'tf_bert_model_2/bert/encoder/layer_._4/output/dense/bias:0', 'tf_bert_model_2/bert/encoder/layer_._4/output/LayerNorm/gamma:0', 'tf_bert_model_2/bert/encoder/layer_._4/output/LayerNorm/beta:0', 'tf_bert_model_2/bert/encoder/layer_._5/attention/self/query/kernel:0', 'tf_bert_model_2/bert/encoder/layer_._5/attention/self/query/bias:0', 'tf_bert_model_2/bert/encoder/layer_._5/attention/self/key/kernel:0', 'tf_bert_model_2/bert/encoder/layer_._5/attention/self/key/bias:0', 'tf_bert_model_2/bert/encoder/layer_._5/attention/self/value/kernel:0', 'tf_bert_model_2/bert/encoder/layer_._5/attention/self/value/bias:0', 'tf_bert_model_2/bert/encoder/layer_._5/attention/output/dense/kernel:0', 'tf_bert_model_2/bert/encoder/layer_._5/attention/output/dense/bias:0', 'tf_bert_model_2/bert/encoder/layer_._5/attention/output/LayerNorm/gamma:0', 'tf_bert_model_2/bert/encoder/layer_._5/attention/output/LayerNorm/beta:0', 'tf_bert_model_2/bert/encoder/layer_._5/intermediate/dense/kernel:0', 'tf_bert_model_2/bert/encoder/layer_._5/intermediate/dense/bias:0', 'tf_bert_model_2/bert/encoder/layer_._5/output/dense/kernel:0', 'tf_bert_model_2/bert/encoder/layer_._5/output/dense/bias:0', 'tf_bert_model_2/bert/encoder/layer_._5/output/LayerNorm/gamma:0', 'tf_bert_model_2/bert/encoder/layer_._5/output/LayerNorm/beta:0', 'tf_bert_model_2/bert/encoder/layer_._6/attention/self/query/kernel:0', 'tf_bert_model_2/bert/encoder/layer_._6/attention/self/query/bias:0', 'tf_bert_model_2/bert/encoder/layer_._6/attention/self/key/kernel:0', 'tf_bert_model_2/bert/encoder/layer_._6/attention/self/key/bias:0', 'tf_bert_model_2/bert/encoder/layer_._6/attention/self/value/kernel:0', 'tf_bert_model_2/bert/encoder/layer_._6/attention/self/value/bias:0', 'tf_bert_model_2/bert/encoder/layer_._6/attention/output/dense/kernel:0', 'tf_bert_model_2/bert/encoder/layer_._6/attention/output/dense/bias:0', 'tf_bert_model_2/bert/encoder/layer_._6/attention/output/LayerNorm/gamma:0', 'tf_bert_model_2/bert/encoder/layer_._6/attention/output/LayerNorm/beta:0', 'tf_bert_model_2/bert/encoder/layer_._6/intermediate/dense/kernel:0', 'tf_bert_model_2/bert/encoder/layer_._6/intermediate/dense/bias:0', 'tf_bert_model_2/bert/encoder/layer_._6/output/dense/kernel:0', 'tf_bert_model_2/bert/encoder/layer_._6/output/dense/bias:0', 'tf_bert_model_2/bert/encoder/layer_._6/output/LayerNorm/gamma:0', 'tf_bert_model_2/bert/encoder/layer_._6/output/LayerNorm/beta:0', 'tf_bert_model_2/bert/encoder/layer_._7/attention/self/query/kernel:0', 'tf_bert_model_2/bert/encoder/layer_._7/attention/self/query/bias:0', 'tf_bert_model_2/bert/encoder/layer_._7/attention/self/key/kernel:0', 'tf_bert_model_2/bert/encoder/layer_._7/attention/self/key/bias:0', 'tf_bert_model_2/bert/encoder/layer_._7/attention/self/value/kernel:0', 'tf_bert_model_2/bert/encoder/layer_._7/attention/self/value/bias:0', 'tf_bert_model_2/bert/encoder/layer_._7/attention/output/dense/kernel:0', 'tf_bert_model_2/bert/encoder/layer_._7/attention/output/dense/bias:0', 'tf_bert_model_2/bert/encoder/layer_._7/attention/output/LayerNorm/gamma:0', 'tf_bert_model_2/bert/encoder/layer_._7/attention/output/LayerNorm/beta:0', 'tf_bert_model_2/bert/encoder/layer_._7/intermediate/dense/kernel:0', 'tf_bert_model_2/bert/encoder/layer_._7/intermediate/dense/bias:0', 'tf_bert_model_2/bert/encoder/layer_._7/output/dense/kernel:0', 'tf_bert_model_2/bert/encoder/layer_._7/output/dense/bias:0', 'tf_bert_model_2/bert/encoder/layer_._7/output/LayerNorm/gamma:0', 'tf_bert_model_2/bert/encoder/layer_._7/output/LayerNorm/beta:0', 'tf_bert_model_2/bert/pooler/dense/kernel:0', 'tf_bert_model_2/bert/pooler/dense/bias:0'] when minimizing the loss. If you're using `model.compile()`, did you forget to provide a `loss` argument?\n",
      "129/129 [==============================] - 1061s 8s/step - loss: 0.5356 - accuracy: 0.7333 - val_loss: 0.4421 - val_accuracy: 0.7994\n",
      "Epoch 2/2\n",
      "129/129 [==============================] - 935s 7s/step - loss: 0.3884 - accuracy: 0.8317 - val_loss: 0.4155 - val_accuracy: 0.8052\n"
     ]
    }
   ],
   "source": [
    "bert_model = TFBertModel.from_pretrained(checkpoint)\n",
    "bert_classification_model = create_bert_classification_model(bert_model, num_train_layers=4)\n",
    "\n",
    "bert_classification_model_history = bert_classification_model.fit(\n",
    "    [x_train.input_ids, x_train.token_type_ids, x_train.attention_mask],\n",
    "    y_train,\n",
    "    validation_data=([x_test.input_ids, x_test.token_type_ids, x_test.attention_mask], y_test),\n",
    "    batch_size=32,\n",
    "    epochs=2\n",
    ")"
   ]
  },
  {
   "cell_type": "markdown",
   "id": "09e122a3-0e05-4acf-a164-c6e3068f6f44",
   "metadata": {},
   "source": [
    "**set num_train_layers=12**"
   ]
  },
  {
   "cell_type": "code",
   "execution_count": 29,
   "id": "6dbef47d-4819-48d3-9ea8-3790bba94d38",
   "metadata": {},
   "outputs": [
    {
     "name": "stdout",
     "output_type": "stream",
     "text": [
      "Epoch 1/2\n",
      "129/129 [==============================] - 1677s 13s/step - loss: 0.5913 - accuracy: 0.6758 - val_loss: 0.4411 - val_accuracy: 0.7926\n",
      "Epoch 2/2\n",
      "129/129 [==============================] - 1542s 12s/step - loss: 0.3354 - accuracy: 0.8581 - val_loss: 0.4627 - val_accuracy: 0.7674\n"
     ]
    }
   ],
   "source": [
    "bert_model = TFBertModel.from_pretrained(checkpoint)\n",
    "bert_classification_model = create_bert_classification_model(bert_model, num_train_layers=12)\n",
    "\n",
    "bert_classification_model_history = bert_classification_model.fit(\n",
    "    [x_train.input_ids, x_train.token_type_ids, x_train.attention_mask],\n",
    "    y_train,\n",
    "    validation_data=([x_test.input_ids, x_test.token_type_ids, x_test.attention_mask], y_test),\n",
    "    batch_size=32,\n",
    "    epochs=2\n",
    ")"
   ]
  },
  {
   "cell_type": "markdown",
   "id": "5af189a4-ff77-40e7-8fc2-d45aa087bf94",
   "metadata": {},
   "source": [
    "# Maximum number of layer performs the best"
   ]
  },
  {
   "cell_type": "code",
   "execution_count": null,
   "id": "c98a2194-ef01-435f-a640-abcabb7968f6",
   "metadata": {},
   "outputs": [],
   "source": []
  },
  {
   "cell_type": "code",
   "execution_count": null,
   "id": "b165482d-c061-4908-a120-a8a469215e6c",
   "metadata": {},
   "outputs": [],
   "source": []
  },
  {
   "cell_type": "code",
   "execution_count": null,
   "id": "b8f9dc19-c519-48c0-b288-c4a318c192f3",
   "metadata": {},
   "outputs": [],
   "source": []
  },
  {
   "cell_type": "code",
   "execution_count": null,
   "id": "2b5556a5-1365-42d6-af26-9bced628bd18",
   "metadata": {},
   "outputs": [],
   "source": []
  }
 ],
 "metadata": {
  "kernelspec": {
   "display_name": "Python 3 (ipykernel)",
   "language": "python",
   "name": "python3"
  },
  "language_info": {
   "codemirror_mode": {
    "name": "ipython",
    "version": 3
   },
   "file_extension": ".py",
   "mimetype": "text/x-python",
   "name": "python",
   "nbconvert_exporter": "python",
   "pygments_lexer": "ipython3",
   "version": "3.9.7"
  }
 },
 "nbformat": 4,
 "nbformat_minor": 5
}
