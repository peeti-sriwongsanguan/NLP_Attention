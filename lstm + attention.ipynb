{
 "cells": [
  {
   "cell_type": "code",
   "execution_count": 1,
   "id": "a9cef1b8",
   "metadata": {},
   "outputs": [],
   "source": [
    "# !pip install build-essential\n",
    "# !pip install pydot\n",
    "# !pip install graphviz"
   ]
  },
  {
   "cell_type": "code",
   "execution_count": 2,
   "id": "c6242a18",
   "metadata": {},
   "outputs": [
    {
     "name": "stderr",
     "output_type": "stream",
     "text": [
      "[nltk_data] Downloading package stopwords to\n",
      "[nltk_data]     /Users/peeti_mac/nltk_data...\n",
      "[nltk_data]   Package stopwords is already up-to-date!\n"
     ]
    }
   ],
   "source": [
    "import numpy as np\n",
    "import re\n",
    "\n",
    "import tensorflow as tf\n",
    "from tensorflow import keras\n",
    "from tensorflow.keras.utils import plot_model\n",
    "\n",
    "from sklearn.model_selection import train_test_split\n",
    "from keras_preprocessing.sequence import pad_sequences\n",
    "from keras.preprocessing.text import Tokenizer\n",
    "from keras.models import Sequential\n",
    "from keras.layers import Embedding,Flatten,Dense,SpatialDropout1D,LSTM\n",
    "from keras.callbacks import EarlyStopping\n",
    "\n",
    "import math\n",
    "import nltk\n",
    "nltk.download('stopwords')\n",
    "from nltk.corpus import stopwords\n",
    "stop_words = set(stopwords.words('english'))\n",
    "\n",
    "import pandas as pd\n",
    "pd.set_option('max_columns', None)\n",
    "\n",
    "from data_frame import eda_nltk, remove_tags\n",
    "\n",
    "import matplotlib.pyplot as plt\n",
    "import seaborn as sns\n",
    "sns.set(style=\"white\")\n",
    "sns.set(style=\"whitegrid\", color_codes = True)\n",
    "\n",
    "\n",
    "import warnings\n",
    "warnings.filterwarnings(\"ignore\")\n",
    "\n"
   ]
  },
  {
   "cell_type": "code",
   "execution_count": 3,
   "id": "b443aace",
   "metadata": {},
   "outputs": [
    {
     "name": "stdout",
     "output_type": "stream",
     "text": [
      ": reviews_Automotive_5.json.gz\n"
     ]
    },
    {
     "data": {
      "text/html": [
       "<div>\n",
       "<style scoped>\n",
       "    .dataframe tbody tr th:only-of-type {\n",
       "        vertical-align: middle;\n",
       "    }\n",
       "\n",
       "    .dataframe tbody tr th {\n",
       "        vertical-align: top;\n",
       "    }\n",
       "\n",
       "    .dataframe thead th {\n",
       "        text-align: right;\n",
       "    }\n",
       "</style>\n",
       "<table border=\"1\" class=\"dataframe\">\n",
       "  <thead>\n",
       "    <tr style=\"text-align: right;\">\n",
       "      <th></th>\n",
       "      <th>reviewerID</th>\n",
       "      <th>asin</th>\n",
       "      <th>reviewerName</th>\n",
       "      <th>helpful</th>\n",
       "      <th>reviewText</th>\n",
       "      <th>overall</th>\n",
       "      <th>summary</th>\n",
       "      <th>unixReviewTime</th>\n",
       "      <th>reviewTime</th>\n",
       "    </tr>\n",
       "  </thead>\n",
       "  <tbody>\n",
       "    <tr>\n",
       "      <th>0</th>\n",
       "      <td>A3F73SC1LY51OO</td>\n",
       "      <td>B00002243X</td>\n",
       "      <td>Alan Montgomery</td>\n",
       "      <td>[4, 4]</td>\n",
       "      <td>I needed a set of jumper cables for my new car...</td>\n",
       "      <td>5</td>\n",
       "      <td>Work Well - Should Have Bought Longer Ones</td>\n",
       "      <td>1313539200</td>\n",
       "      <td>08 17, 2011</td>\n",
       "    </tr>\n",
       "    <tr>\n",
       "      <th>1</th>\n",
       "      <td>A20S66SKYXULG2</td>\n",
       "      <td>B00002243X</td>\n",
       "      <td>alphonse</td>\n",
       "      <td>[1, 1]</td>\n",
       "      <td>These long cables work fine for my truck, but ...</td>\n",
       "      <td>4</td>\n",
       "      <td>Okay long cables</td>\n",
       "      <td>1315094400</td>\n",
       "      <td>09 4, 2011</td>\n",
       "    </tr>\n",
       "    <tr>\n",
       "      <th>2</th>\n",
       "      <td>A2I8LFSN2IS5EO</td>\n",
       "      <td>B00002243X</td>\n",
       "      <td>Chris</td>\n",
       "      <td>[0, 0]</td>\n",
       "      <td>Can't comment much on these since they have no...</td>\n",
       "      <td>5</td>\n",
       "      <td>Looks and feels heavy Duty</td>\n",
       "      <td>1374710400</td>\n",
       "      <td>07 25, 2013</td>\n",
       "    </tr>\n",
       "    <tr>\n",
       "      <th>3</th>\n",
       "      <td>A3GT2EWQSO45ZG</td>\n",
       "      <td>B00002243X</td>\n",
       "      <td>DeusEx</td>\n",
       "      <td>[19, 19]</td>\n",
       "      <td>I absolutley love Amazon!!!  For the price of ...</td>\n",
       "      <td>5</td>\n",
       "      <td>Excellent choice for Jumper Cables!!!</td>\n",
       "      <td>1292889600</td>\n",
       "      <td>12 21, 2010</td>\n",
       "    </tr>\n",
       "    <tr>\n",
       "      <th>4</th>\n",
       "      <td>A3ESWJPAVRPWB4</td>\n",
       "      <td>B00002243X</td>\n",
       "      <td>E. Hernandez</td>\n",
       "      <td>[0, 0]</td>\n",
       "      <td>I purchased the 12' feet long cable set and th...</td>\n",
       "      <td>5</td>\n",
       "      <td>Excellent, High Quality Starter Cables</td>\n",
       "      <td>1341360000</td>\n",
       "      <td>07 4, 2012</td>\n",
       "    </tr>\n",
       "  </tbody>\n",
       "</table>\n",
       "</div>"
      ],
      "text/plain": [
       "       reviewerID        asin     reviewerName   helpful  \\\n",
       "0  A3F73SC1LY51OO  B00002243X  Alan Montgomery    [4, 4]   \n",
       "1  A20S66SKYXULG2  B00002243X         alphonse    [1, 1]   \n",
       "2  A2I8LFSN2IS5EO  B00002243X            Chris    [0, 0]   \n",
       "3  A3GT2EWQSO45ZG  B00002243X           DeusEx  [19, 19]   \n",
       "4  A3ESWJPAVRPWB4  B00002243X     E. Hernandez    [0, 0]   \n",
       "\n",
       "                                          reviewText  overall  \\\n",
       "0  I needed a set of jumper cables for my new car...        5   \n",
       "1  These long cables work fine for my truck, but ...        4   \n",
       "2  Can't comment much on these since they have no...        5   \n",
       "3  I absolutley love Amazon!!!  For the price of ...        5   \n",
       "4  I purchased the 12' feet long cable set and th...        5   \n",
       "\n",
       "                                      summary  unixReviewTime   reviewTime  \n",
       "0  Work Well - Should Have Bought Longer Ones      1313539200  08 17, 2011  \n",
       "1                            Okay long cables      1315094400   09 4, 2011  \n",
       "2                  Looks and feels heavy Duty      1374710400  07 25, 2013  \n",
       "3       Excellent choice for Jumper Cables!!!      1292889600  12 21, 2010  \n",
       "4      Excellent, High Quality Starter Cables      1341360000   07 4, 2012  "
      ]
     },
     "execution_count": 3,
     "metadata": {},
     "output_type": "execute_result"
    }
   ],
   "source": [
    "dataframe = input(': ') #reviews_Automotive_5.json.gz\n",
    "df = eda_nltk(dataframe)\n",
    "df.head()"
   ]
  },
  {
   "cell_type": "code",
   "execution_count": 4,
   "id": "4d6d6a39",
   "metadata": {},
   "outputs": [
    {
     "name": "stdout",
     "output_type": "stream",
     "text": [
      "(20473, 10)\n"
     ]
    }
   ],
   "source": [
    "df['positive'] = df.overall.apply(lambda x: 1 if x >= 4 else 0)\n",
    "print(df.shape)\n"
   ]
  },
  {
   "cell_type": "markdown",
   "id": "8923c202",
   "metadata": {},
   "source": [
    "# Data Preprocessing"
   ]
  },
  {
   "cell_type": "code",
   "execution_count": 5,
   "id": "6b703b33",
   "metadata": {},
   "outputs": [],
   "source": [
    "review_df = df[['reviewText','positive']]\n",
    "review_df['reviewText']=review_df['reviewText'].apply(lambda cw : remove_tags(cw))\n",
    "\n"
   ]
  },
  {
   "cell_type": "code",
   "execution_count": 6,
   "id": "d4665545",
   "metadata": {},
   "outputs": [
    {
     "data": {
      "image/png": "[encoded data removed]",
      "text/plain": [
       "<Figure size 432x288 with 1 Axes>"
      ]
     },
     "metadata": {},
     "output_type": "display_data"
    }
   ],
   "source": [
    "sns.countplot(x='positive',data = review_df, palette = 'hls')\n",
    "plt.show()"
   ]
  },
  {
   "cell_type": "markdown",
   "id": "3f1cde22",
   "metadata": {},
   "source": [
    "# imbalanced data"
   ]
  },
  {
   "cell_type": "markdown",
   "id": "1c914840",
   "metadata": {},
   "source": [
    "## start random select"
   ]
  },
  {
   "cell_type": "code",
   "execution_count": 7,
   "id": "6a43ceb3",
   "metadata": {},
   "outputs": [
    {
     "name": "stdout",
     "output_type": "stream",
     "text": [
      "We should select only 2578 count for both positive/ negative review\n"
     ]
    },
    {
     "data": {
      "text/plain": [
       "5156"
      ]
     },
     "execution_count": 7,
     "metadata": {},
     "output_type": "execute_result"
    }
   ],
   "source": [
    "max_cnt = review_df.query('positive == 0').shape[0]\n",
    "print(f'We should select only {max_cnt} count for both positive/ negative review')\n",
    "sample_df = review_df.groupby(['positive']).apply(lambda x: x.sample(max_cnt))\n",
    "sample_df.shape[0]"
   ]
  },
  {
   "cell_type": "markdown",
   "id": "f6cb8e0f",
   "metadata": {},
   "source": [
    "### remove stopwords from the review. Stopwords are commonly used words like ‘and’, ‘the’, ‘at’ that do not add any special meaning or significance to a sentence"
   ]
  },
  {
   "cell_type": "code",
   "execution_count": 8,
   "id": "c6e7c1c0",
   "metadata": {},
   "outputs": [
    {
     "data": {
      "text/plain": [
       "positive       \n",
       "0         11490    product best car mean alex customer service pe...\n",
       "          13616    wheel cleaner better stuff sold autozone types...\n",
       "          12794    one bottom step getting going buy another one ...\n",
       "          6474     kit work way thought would hard time keeping s...\n",
       "          9011     pin 10mm wide disc brake holes disk wide lock ...\n",
       "                                         ...                        \n",
       "1         5871     pt cruiser already replaced nozzles steep deal...\n",
       "          1893     bought 2003 bmw r 1150r even female understand...\n",
       "          15748    inexpensive goggle gets job done seem fog quic...\n",
       "          6036     using years never replace water pump thermosta...\n",
       "          92       rain x 800002243 glass treatment 7 oz simple s...\n",
       "Name: reviewText, Length: 5156, dtype: object"
      ]
     },
     "execution_count": 8,
     "metadata": {},
     "output_type": "execute_result"
    }
   ],
   "source": [
    "sample_df['reviewText'] = sample_df['reviewText'].apply(lambda x: ' '.join([word for word in x.split() if word not in (stop_words)]))\n",
    "sample_df['reviewText']"
   ]
  },
  {
   "cell_type": "code",
   "execution_count": 9,
   "id": "e5bbec76",
   "metadata": {},
   "outputs": [
    {
     "data": {
      "text/plain": [
       "['product best car mean alex customer service person helpful help returning package even broke bulb said prob deduct bulb cost u still return',\n",
       " 'wheel cleaner better stuff sold autozone types stores quite good enough bmw wheels notorious brake dust use little brush get stubborn grime']"
      ]
     },
     "execution_count": 9,
     "metadata": {},
     "output_type": "execute_result"
    }
   ],
   "source": [
    "\n",
    "review_list = [i for i in sample_df['reviewText']]\n",
    "review_list[:2]"
   ]
  },
  {
   "cell_type": "code",
   "execution_count": 10,
   "id": "91e55e12",
   "metadata": {},
   "outputs": [
    {
     "data": {
      "text/plain": [
       "array(['product best car mean alex customer service person helpful help returning package even broke bulb said prob deduct bulb cost u still return',\n",
       "       'wheel cleaner better stuff sold autozone types stores quite good enough bmw wheels notorious brake dust use little brush get stubborn grime',\n",
       "       'one bottom step getting going buy another one put end one keeps moving around well made good quality unit',\n",
       "       ...,\n",
       "       'inexpensive goggle gets job done seem fog quickly first put riding wind clears fog',\n",
       "       'using years never replace water pump thermostat radiator worth money',\n",
       "       'rain x 800002243 glass treatment 7 oz simple stuff works great applied correctly rain slide right'],\n",
       "      dtype=object)"
      ]
     },
     "execution_count": 10,
     "metadata": {},
     "output_type": "execute_result"
    }
   ],
   "source": [
    "sample_df['reviewText'].values"
   ]
  },
  {
   "cell_type": "code",
   "execution_count": 11,
   "id": "970f16d6",
   "metadata": {},
   "outputs": [
    {
     "data": {
      "text/plain": [
       "array([[   0,    0,    0, ..., 1235,   48,  508],\n",
       "       [   0,    0,    0, ...,  241,    9, 1106],\n",
       "       [   0,    0,    0, ...,    6,   42,   85],\n",
       "       ...,\n",
       "       [   0,    0,    0, ..., 1099, 1130, 1162],\n",
       "       [   0,    0,    0, ..., 1971,  141,  143],\n",
       "       [   0,    0,    0, ...,  267,  798,   73]], dtype=int32)"
      ]
     },
     "execution_count": 11,
     "metadata": {},
     "output_type": "execute_result"
    }
   ],
   "source": [
    "max_features = 2000\n",
    "tokenizer = Tokenizer(num_words=max_features, split=' ')\n",
    "tokenizer.fit_on_texts(sample_df['reviewText'].values)\n",
    "X = tokenizer.texts_to_sequences(sample_df['reviewText'].values)\n",
    "X = pad_sequences(X)\n",
    "X"
   ]
  },
  {
   "cell_type": "code",
   "execution_count": 12,
   "id": "b1e8d922",
   "metadata": {},
   "outputs": [],
   "source": [
    "# t=Tokenizer()\n",
    "# t.fit_on_texts(review_list)\n",
    "# sequences =t.texts_to_sequences(review_list)\n",
    "# X = pad_sequences(sequences)\n",
    "# print(X)"
   ]
  },
  {
   "cell_type": "code",
   "execution_count": 13,
   "id": "e1412635",
   "metadata": {},
   "outputs": [],
   "source": [
    "# print('sequences : ',sequences[:2],'\\n')\n",
    "\n",
    "\n",
    "# N = len([item for sublist in sequences[:2] for item in sublist])\n",
    "\n",
    "# print('word_index : ',{k: t.word_index[k] for k in list(t.word_index)[:N]})\n"
   ]
  },
  {
   "cell_type": "code",
   "execution_count": 14,
   "id": "4353b43c",
   "metadata": {},
   "outputs": [],
   "source": [
    "# len_mat=[]\n",
    "# for i in range(len(sequences)):\n",
    "#     len_mat.append(len(sequences[i]))"
   ]
  },
  {
   "cell_type": "code",
   "execution_count": 15,
   "id": "a358ce3a",
   "metadata": {},
   "outputs": [],
   "source": [
    "# len(len_mat)"
   ]
  },
  {
   "cell_type": "code",
   "execution_count": 16,
   "id": "9cc59971",
   "metadata": {},
   "outputs": [
    {
     "name": "stdout",
     "output_type": "stream",
     "text": [
      "Average length of each review :  48.846392552366176\n",
      "Percentage of reviews with positive sentiment is 50.0%\n",
      "Percentage of reviews with negative sentiment is 50.0%\n"
     ]
    }
   ],
   "source": [
    "s = 0.0\n",
    "for i in sample_df['reviewText']:\n",
    "    word_list = i.split()\n",
    "    s = s + len(word_list)\n",
    "print(\"Average length of each review : \",s/sample_df.shape[0])\n",
    "pos = 0\n",
    "for i in range(sample_df.shape[0]):\n",
    "    if sample_df.iloc[i]['positive'] == 1:\n",
    "        pos = pos + 1\n",
    "neg = sample_df.shape[0]-pos\n",
    "print(\"Percentage of reviews with positive sentiment is \"+str(pos/sample_df.shape[0]*100)+\"%\")\n",
    "print(\"Percentage of reviews with negative sentiment is \"+str(neg/sample_df.shape[0]*100)+\"%\")\n"
   ]
  },
  {
   "cell_type": "markdown",
   "id": "a81daaf8",
   "metadata": {},
   "source": [
    "# Build LSTM Model"
   ]
  },
  {
   "cell_type": "markdown",
   "id": "ea83c4a8",
   "metadata": {},
   "source": [
    "#### For the models we will use, we need to define a maximum sequence length (max number of tokens per review that we'll feed into our model). We'll cut off any tokens longer than that, and we'll pad shorter reviews with zeros at the end."
   ]
  },
  {
   "cell_type": "code",
   "execution_count": 17,
   "id": "4b635705",
   "metadata": {},
   "outputs": [
    {
     "name": "stdout",
     "output_type": "stream",
     "text": [
      "Model: \"sequential\"\n",
      "_________________________________________________________________\n",
      " Layer (type)                Output Shape              Param #   \n",
      "=================================================================\n",
      " embedding (Embedding)       (None, 896, 64)           128000    \n",
      "                                                                 \n",
      " spatial_dropout1d (SpatialD  (None, 896, 64)          0         \n",
      " ropout1D)                                                       \n",
      "                                                                 \n",
      " lstm (LSTM)                 (None, 16)                5184      \n",
      "                                                                 \n",
      " dense (Dense)               (None, 1)                 17        \n",
      "                                                                 \n",
      "=================================================================\n",
      "Total params: 133,201\n",
      "Trainable params: 133,201\n",
      "Non-trainable params: 0\n",
      "_________________________________________________________________\n",
      "None\n"
     ]
    },
    {
     "name": "stderr",
     "output_type": "stream",
     "text": [
      "2023-09-13 21:56:39.693060: I tensorflow/core/platform/cpu_feature_guard.cc:193] This TensorFlow binary is optimized with oneAPI Deep Neural Network Library (oneDNN) to use the following CPU instructions in performance-critical operations:  AVX2 AVX512F AVX512_VNNI FMA\n",
      "To enable them in other operations, rebuild TensorFlow with the appropriate compiler flags.\n"
     ]
    }
   ],
   "source": [
    "max_features = 2000\n",
    "embed_dim = 64\n",
    "lstm_out = 16\n",
    "\n",
    "model = Sequential()\n",
    "model.add(Embedding(max_features, embed_dim,input_length = X.shape[1]))\n",
    "model.add(SpatialDropout1D(0.2))\n",
    "model.add(LSTM(lstm_out, dropout=0.1, recurrent_dropout=0.2))\n",
    "model.add(Dense(1,activation='sigmoid',trainable=True))\n",
    "model.compile(loss = 'binary_crossentropy', optimizer='adam', metrics = ['accuracy'])\n",
    "\n",
    "print(model.summary())"
   ]
  },
  {
   "cell_type": "code",
   "execution_count": 18,
   "id": "e7171429",
   "metadata": {},
   "outputs": [
    {
     "data": {
      "image/png": "[encoded data removed]",
      "text/plain": [
       "<IPython.core.display.Image object>"
      ]
     },
     "execution_count": 18,
     "metadata": {},
     "output_type": "execute_result"
    }
   ],
   "source": [
    "plot_model(model, show_shapes=True, dpi=90)"
   ]
  },
  {
   "cell_type": "code",
   "execution_count": 19,
   "id": "b9fd709e",
   "metadata": {},
   "outputs": [
    {
     "name": "stdout",
     "output_type": "stream",
     "text": [
      "(4124, 896) (4124,)\n",
      "(1032, 896) (1032,)\n"
     ]
    }
   ],
   "source": [
    "y = sample_df['positive']\n",
    "X_train, X_test, Y_train, Y_test = train_test_split(X,y, test_size = 0.2)\n",
    "\n",
    "print(X_train.shape, Y_train.shape)\n",
    "print(X_test.shape, Y_test.shape)\n",
    "\n"
   ]
  },
  {
   "cell_type": "code",
   "execution_count": 20,
   "id": "371b7181",
   "metadata": {},
   "outputs": [
    {
     "name": "stdout",
     "output_type": "stream",
     "text": [
      "Epoch 1/6\n",
      "129/129 [==============================] - 80s 603ms/step - loss: 0.6558 - accuracy: 0.6091 - val_loss: 0.5698 - val_accuracy: 0.7326\n",
      "Epoch 2/6\n",
      "129/129 [==============================] - 77s 598ms/step - loss: 0.4764 - accuracy: 0.7859 - val_loss: 0.5393 - val_accuracy: 0.7287\n",
      "Epoch 3/6\n",
      "129/129 [==============================] - 66s 511ms/step - loss: 0.3778 - accuracy: 0.8421 - val_loss: 0.5662 - val_accuracy: 0.7364\n",
      "Epoch 4/6\n",
      "129/129 [==============================] - 63s 485ms/step - loss: 0.3176 - accuracy: 0.8792 - val_loss: 0.6319 - val_accuracy: 0.7180\n",
      "Epoch 5/6\n",
      "129/129 [==============================] - 71s 552ms/step - loss: 0.2741 - accuracy: 0.8972 - val_loss: 0.6837 - val_accuracy: 0.7190\n",
      "Epoch 5: early stopping\n"
     ]
    },
    {
     "data": {
      "text/plain": [
       "<keras.callbacks.History at 0x7fa3e3afe790>"
      ]
     },
     "execution_count": 20,
     "metadata": {},
     "output_type": "execute_result"
    }
   ],
   "source": [
    "batch_size = 32\n",
    "model.fit(X_train, Y_train, \n",
    "          epochs = 6,\n",
    "          batch_size = batch_size,\n",
    "          validation_data = (X_test, Y_test),\n",
    "          callbacks = [EarlyStopping(monitor='val_accuracy', min_delta = 0.001, patience=2,verbose=2)])"
   ]
  }
 ],
 "metadata": {
  "kernelspec": {
   "display_name": "Python 3 (ipykernel)",
   "language": "python",
   "name": "python3"
  },
  "language_info": {
   "codemirror_mode": {
    "name": "ipython",
    "version": 3
   },
   "file_extension": ".py",
   "mimetype": "text/x-python",
   "name": "python",
   "nbconvert_exporter": "python",
   "pygments_lexer": "ipython3",
   "version": "3.9.7"
  }
 },
 "nbformat": 4,
 "nbformat_minor": 5
}
