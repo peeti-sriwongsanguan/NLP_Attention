{
 "cells": [
  {
   "cell_type": "code",
   "execution_count": 1,
   "id": "48ce36b6",
   "metadata": {},
   "outputs": [
    {
     "name": "stderr",
     "output_type": "stream",
     "text": [
      "[nltk_data] Downloading package stopwords to\n",
      "[nltk_data]     /Users/peeti_mac/nltk_data...\n",
      "[nltk_data]   Package stopwords is already up-to-date!\n"
     ]
    }
   ],
   "source": [
    "import numpy as np\n",
    "import re\n",
    "\n",
    "from sklearn.model_selection import train_test_split\n",
    "from keras_preprocessing.sequence import pad_sequences\n",
    "from keras.preprocessing.text import Tokenizer\n",
    "from keras.models import Sequential\n",
    "from keras.layers import Embedding,Flatten,Dense,SpatialDropout1D,LSTM\n",
    "from keras.callbacks import EarlyStopping\n",
    "\n",
    "import math\n",
    "import nltk\n",
    "nltk.download('stopwords')\n",
    "from nltk.corpus import stopwords\n",
    "stop_words = set(stopwords.words('english'))\n",
    "\n",
    "import pandas as pd\n",
    "pd.set_option('max_columns', None)\n",
    "\n",
    "from data_frame import eda_nltk, remove_tags\n",
    "\n",
    "import matplotlib.pyplot as plt\n",
    "import seaborn as sns\n",
    "sns.set(style=\"white\")\n",
    "sns.set(style=\"whitegrid\", color_codes = True)\n",
    "\n",
    "\n",
    "import warnings\n",
    "warnings.filterwarnings(\"ignore\")\n",
    "\n"
   ]
  },
  {
   "cell_type": "code",
   "execution_count": 2,
   "id": "4b717fa7",
   "metadata": {},
   "outputs": [
    {
     "name": "stdout",
     "output_type": "stream",
     "text": [
      ": reviews_Automotive_5.json.gz\n"
     ]
    },
    {
     "data": {
      "text/html": [
       "<div>\n",
       "<style scoped>\n",
       "    .dataframe tbody tr th:only-of-type {\n",
       "        vertical-align: middle;\n",
       "    }\n",
       "\n",
       "    .dataframe tbody tr th {\n",
       "        vertical-align: top;\n",
       "    }\n",
       "\n",
       "    .dataframe thead th {\n",
       "        text-align: right;\n",
       "    }\n",
       "</style>\n",
       "<table border=\"1\" class=\"dataframe\">\n",
       "  <thead>\n",
       "    <tr style=\"text-align: right;\">\n",
       "      <th></th>\n",
       "      <th>reviewerID</th>\n",
       "      <th>asin</th>\n",
       "      <th>reviewerName</th>\n",
       "      <th>helpful</th>\n",
       "      <th>reviewText</th>\n",
       "      <th>overall</th>\n",
       "      <th>summary</th>\n",
       "      <th>unixReviewTime</th>\n",
       "      <th>reviewTime</th>\n",
       "    </tr>\n",
       "  </thead>\n",
       "  <tbody>\n",
       "    <tr>\n",
       "      <th>0</th>\n",
       "      <td>A3F73SC1LY51OO</td>\n",
       "      <td>B00002243X</td>\n",
       "      <td>Alan Montgomery</td>\n",
       "      <td>[4, 4]</td>\n",
       "      <td>I needed a set of jumper cables for my new car...</td>\n",
       "      <td>5</td>\n",
       "      <td>Work Well - Should Have Bought Longer Ones</td>\n",
       "      <td>1313539200</td>\n",
       "      <td>08 17, 2011</td>\n",
       "    </tr>\n",
       "    <tr>\n",
       "      <th>1</th>\n",
       "      <td>A20S66SKYXULG2</td>\n",
       "      <td>B00002243X</td>\n",
       "      <td>alphonse</td>\n",
       "      <td>[1, 1]</td>\n",
       "      <td>These long cables work fine for my truck, but ...</td>\n",
       "      <td>4</td>\n",
       "      <td>Okay long cables</td>\n",
       "      <td>1315094400</td>\n",
       "      <td>09 4, 2011</td>\n",
       "    </tr>\n",
       "    <tr>\n",
       "      <th>2</th>\n",
       "      <td>A2I8LFSN2IS5EO</td>\n",
       "      <td>B00002243X</td>\n",
       "      <td>Chris</td>\n",
       "      <td>[0, 0]</td>\n",
       "      <td>Can't comment much on these since they have no...</td>\n",
       "      <td>5</td>\n",
       "      <td>Looks and feels heavy Duty</td>\n",
       "      <td>1374710400</td>\n",
       "      <td>07 25, 2013</td>\n",
       "    </tr>\n",
       "    <tr>\n",
       "      <th>3</th>\n",
       "      <td>A3GT2EWQSO45ZG</td>\n",
       "      <td>B00002243X</td>\n",
       "      <td>DeusEx</td>\n",
       "      <td>[19, 19]</td>\n",
       "      <td>I absolutley love Amazon!!!  For the price of ...</td>\n",
       "      <td>5</td>\n",
       "      <td>Excellent choice for Jumper Cables!!!</td>\n",
       "      <td>1292889600</td>\n",
       "      <td>12 21, 2010</td>\n",
       "    </tr>\n",
       "    <tr>\n",
       "      <th>4</th>\n",
       "      <td>A3ESWJPAVRPWB4</td>\n",
       "      <td>B00002243X</td>\n",
       "      <td>E. Hernandez</td>\n",
       "      <td>[0, 0]</td>\n",
       "      <td>I purchased the 12' feet long cable set and th...</td>\n",
       "      <td>5</td>\n",
       "      <td>Excellent, High Quality Starter Cables</td>\n",
       "      <td>1341360000</td>\n",
       "      <td>07 4, 2012</td>\n",
       "    </tr>\n",
       "  </tbody>\n",
       "</table>\n",
       "</div>"
      ],
      "text/plain": [
       "       reviewerID        asin     reviewerName   helpful  \\\n",
       "0  A3F73SC1LY51OO  B00002243X  Alan Montgomery    [4, 4]   \n",
       "1  A20S66SKYXULG2  B00002243X         alphonse    [1, 1]   \n",
       "2  A2I8LFSN2IS5EO  B00002243X            Chris    [0, 0]   \n",
       "3  A3GT2EWQSO45ZG  B00002243X           DeusEx  [19, 19]   \n",
       "4  A3ESWJPAVRPWB4  B00002243X     E. Hernandez    [0, 0]   \n",
       "\n",
       "                                          reviewText  overall  \\\n",
       "0  I needed a set of jumper cables for my new car...        5   \n",
       "1  These long cables work fine for my truck, but ...        4   \n",
       "2  Can't comment much on these since they have no...        5   \n",
       "3  I absolutley love Amazon!!!  For the price of ...        5   \n",
       "4  I purchased the 12' feet long cable set and th...        5   \n",
       "\n",
       "                                      summary  unixReviewTime   reviewTime  \n",
       "0  Work Well - Should Have Bought Longer Ones      1313539200  08 17, 2011  \n",
       "1                            Okay long cables      1315094400   09 4, 2011  \n",
       "2                  Looks and feels heavy Duty      1374710400  07 25, 2013  \n",
       "3       Excellent choice for Jumper Cables!!!      1292889600  12 21, 2010  \n",
       "4      Excellent, High Quality Starter Cables      1341360000   07 4, 2012  "
      ]
     },
     "execution_count": 2,
     "metadata": {},
     "output_type": "execute_result"
    }
   ],
   "source": [
    "dataframe = input(': ') #reviews_Automotive_5.json.gz\n",
    "df = eda_nltk(dataframe)\n",
    "df.head()"
   ]
  },
  {
   "cell_type": "code",
   "execution_count": 3,
   "id": "13cda8ad",
   "metadata": {},
   "outputs": [
    {
     "name": "stdout",
     "output_type": "stream",
     "text": [
      "(20473, 10)\n"
     ]
    }
   ],
   "source": [
    "df['positive'] = df.overall.apply(lambda x: 1 if x >= 4 else 0)\n",
    "print(df.shape)\n"
   ]
  },
  {
   "cell_type": "markdown",
   "id": "ba7dd279",
   "metadata": {},
   "source": [
    "# Data Preprocessing"
   ]
  },
  {
   "cell_type": "code",
   "execution_count": 4,
   "id": "f0d946b1",
   "metadata": {},
   "outputs": [],
   "source": [
    "review_df = df[['reviewText','positive']]\n",
    "review_df['reviewText']=review_df['reviewText'].apply(lambda cw : remove_tags(cw))\n",
    "\n"
   ]
  },
  {
   "cell_type": "code",
   "execution_count": 5,
   "id": "7a7e536b",
   "metadata": {},
   "outputs": [
    {
     "data": {
      "image/png": "[encoded data removed]",
      "text/plain": [
       "<Figure size 432x288 with 1 Axes>"
      ]
     },
     "metadata": {},
     "output_type": "display_data"
    }
   ],
   "source": [
    "sns.countplot(x='positive',data = review_df, palette = 'hls')\n",
    "plt.show()"
   ]
  },
  {
   "cell_type": "markdown",
   "id": "3ba3ec2c",
   "metadata": {},
   "source": [
    "# imbalanced data"
   ]
  },
  {
   "cell_type": "markdown",
   "id": "cffff9ba",
   "metadata": {},
   "source": [
    "## start random select"
   ]
  },
  {
   "cell_type": "code",
   "execution_count": 6,
   "id": "ab0958aa",
   "metadata": {},
   "outputs": [
    {
     "name": "stdout",
     "output_type": "stream",
     "text": [
      "We should select only 2578 count for both positive/ negative review\n"
     ]
    },
    {
     "data": {
      "text/plain": [
       "5156"
      ]
     },
     "execution_count": 6,
     "metadata": {},
     "output_type": "execute_result"
    }
   ],
   "source": [
    "max_cnt = review_df.query('positive == 0').shape[0]\n",
    "print(f'We should select only {max_cnt} count for both positive/ negative review')\n",
    "sample_df = review_df.groupby(['positive']).apply(lambda x: x.sample(max_cnt))\n",
    "sample_df.shape[0]"
   ]
  },
  {
   "cell_type": "markdown",
   "id": "db8356f2",
   "metadata": {},
   "source": [
    "### remove stopwords from the review. Stopwords are commonly used words like ‘and’, ‘the’, ‘at’ that do not add any special meaning or significance to a sentence"
   ]
  },
  {
   "cell_type": "code",
   "execution_count": 7,
   "id": "c90c1537",
   "metadata": {},
   "outputs": [
    {
     "data": {
      "text/plain": [
       "positive       \n",
       "0         4608     first good seems well made pumps easily moves ...\n",
       "          784      followed directions cleaning top much far clea...\n",
       "          12746    screens really fit rv trim make fit plus use e...\n",
       "          4586     expecting better charger could recommend one p...\n",
       "          12153    headlights bad stuff much improve optional san...\n",
       "                                         ...                        \n",
       "1         4667     orange forgetful need full blown checklist cha...\n",
       "          11035    trim everything company consistantly makes goo...\n",
       "          11626    someone used many car cleaning products hunted...\n",
       "          9548     bought two use recently obtained personalized ...\n",
       "          2435     handy go dump connect sewer hose dump hold end...\n",
       "Name: reviewText, Length: 5156, dtype: object"
      ]
     },
     "execution_count": 7,
     "metadata": {},
     "output_type": "execute_result"
    }
   ],
   "source": [
    "sample_df['reviewText'] = sample_df['reviewText'].apply(lambda x: ' '.join([word for word in x.split() if word not in (stop_words)]))\n",
    "sample_df['reviewText']"
   ]
  },
  {
   "cell_type": "code",
   "execution_count": 8,
   "id": "d00d4afd",
   "metadata": {},
   "outputs": [
    {
     "data": {
      "text/plain": [
       "['first good seems well made pumps easily moves decent amount fluid pump bad says fits quart containers would screw redline quart bottles also gallon jug pump fit either pick tube dropped jug naturally tube odd size nothing could find laying around garage would fit ended cutting top jug retrieve tube could finish job end result quite mess gear oil garage floor buy product make sure bottom tube pushed place tightly',\n",
       " 'followed directions cleaning top much far cleaning grease top mechanism lower sides tan fabric top however provide nice protective water resistant coating applied others done instead using sprayer used brush coated top painting way goes heavier cause spray painted glass surfaces gave 3 star sure good rag top brand lot less expensive also noted top old properly cared bought car well may work lot better newer top']"
      ]
     },
     "execution_count": 8,
     "metadata": {},
     "output_type": "execute_result"
    }
   ],
   "source": [
    "\n",
    "review_list = [i for i in sample_df['reviewText']]\n",
    "review_list[:2]"
   ]
  },
  {
   "cell_type": "code",
   "execution_count": 21,
   "id": "338180be",
   "metadata": {},
   "outputs": [
    {
     "data": {
      "text/plain": [
       "array(['first good seems well made pumps easily moves decent amount fluid pump bad says fits quart containers would screw redline quart bottles also gallon jug pump fit either pick tube dropped jug naturally tube odd size nothing could find laying around garage would fit ended cutting top jug retrieve tube could finish job end result quite mess gear oil garage floor buy product make sure bottom tube pushed place tightly',\n",
       "       'followed directions cleaning top much far cleaning grease top mechanism lower sides tan fabric top however provide nice protective water resistant coating applied others done instead using sprayer used brush coated top painting way goes heavier cause spray painted glass surfaces gave 3 star sure good rag top brand lot less expensive also noted top old properly cared bought car well may work lot better newer top',\n",
       "       'screens really fit rv trim make fit plus use extra tie wraps',\n",
       "       ...,\n",
       "       'someone used many car cleaning products hunted distributors favorite one husband real find several vehicles take car shows constantly using california duster waterless cleaning products instant shine vehicles husband spotclean truck mark big old dodge diesel work truck washing mud cleaned half using product amazed good looked finish side husband also amazed actually used precious truck satisfied results particular vehicle fact used product satisfied result speaks volumes follow directions use sparingly best results',\n",
       "       'bought two use recently obtained personalized license plates vehicle wanted something looked nice protecting plates wear tear easy install although come necessary hardware okay purchased thecruiser locking fastenersto use overall currently complaints long clear covers hold well happy purchase',\n",
       "       'handy go dump connect sewer hose dump hold end cap slowly loosen gardern hose cap either blade valves leaked opened 34 water 34 catch drain sewer hose instead ground front everyone dump station also used backflushing careful use backflow preventer'],\n",
       "      dtype=object)"
      ]
     },
     "execution_count": 21,
     "metadata": {},
     "output_type": "execute_result"
    }
   ],
   "source": [
    "sample_df['reviewText'].values"
   ]
  },
  {
   "cell_type": "code",
   "execution_count": 22,
   "id": "44fa12b1",
   "metadata": {},
   "outputs": [
    {
     "data": {
      "text/plain": [
       "array([[   0,    0,    0, ...,  267,  549,  163],\n",
       "       [   0,    0,    0, ...,   15,  969,  136],\n",
       "       [   0,    0,    0, ...,    3,  314, 1348],\n",
       "       ...,\n",
       "       [   0,    0,    0, ...,    3,   95,  220],\n",
       "       [   0,    0,    0, ...,    8,  286,  280],\n",
       "       [   0,    0,    0, ...,   10,  767,    3]], dtype=int32)"
      ]
     },
     "execution_count": 22,
     "metadata": {},
     "output_type": "execute_result"
    }
   ],
   "source": [
    "max_features = 2000\n",
    "tokenizer = Tokenizer(num_words=max_features, split=' ')\n",
    "tokenizer.fit_on_texts(sample_df['reviewText'].values)\n",
    "X = tokenizer.texts_to_sequences(sample_df['reviewText'].values)\n",
    "X = pad_sequences(X)\n",
    "X"
   ]
  },
  {
   "cell_type": "code",
   "execution_count": 9,
   "id": "5d685a27",
   "metadata": {},
   "outputs": [
    {
     "name": "stdout",
     "output_type": "stream",
     "text": [
      "[[   0    0    0 ... 2188  163 2037]\n",
      " [   0    0    0 ...   15  969  136]\n",
      " [   0    0    0 ...  314 1348 3486]\n",
      " ...\n",
      " [   0    0    0 ... 4989   95  220]\n",
      " [   0    0    0 ...    8  286  280]\n",
      " [   0    0    0 ...    3 5533 8702]]\n"
     ]
    }
   ],
   "source": [
    "# t=Tokenizer()\n",
    "# t.fit_on_texts(review_list)\n",
    "# sequences =t.texts_to_sequences(review_list)\n",
    "# X = pad_sequences(sequences)\n",
    "# print(X)"
   ]
  },
  {
   "cell_type": "code",
   "execution_count": 10,
   "id": "d2ea48e8",
   "metadata": {},
   "outputs": [
    {
     "name": "stdout",
     "output_type": "stream",
     "text": [
      "sequences :  [[33, 7, 98, 8, 39, 1610, 132, 2901, 593, 409, 393, 365, 154, 436, 242, 1950, 2280, 5, 531, 1870, 1950, 839, 17, 731, 2187, 365, 29, 255, 953, 549, 1575, 2187, 3485, 549, 1653, 135, 178, 44, 110, 3071, 77, 277, 5, 29, 594, 732, 136, 2187, 4054, 549, 44, 224, 59, 96, 760, 223, 872, 1065, 41, 277, 662, 38, 4, 30, 48, 267, 549, 2188, 163, 2037], [910, 577, 130, 136, 14, 127, 130, 442, 136, 1139, 601, 881, 5865, 1371, 136, 84, 761, 46, 2106, 26, 2189, 1066, 340, 289, 208, 293, 21, 1313, 10, 257, 1814, 136, 1951, 42, 329, 1496, 626, 123, 1254, 307, 653, 484, 40, 341, 48, 7, 1459, 136, 225, 79, 111, 247, 17, 1704, 136, 74, 437, 5866, 32, 2, 8, 97, 12, 79, 15, 969, 136]] \n",
      "\n",
      "word_index :  {'one': 1, 'car': 2, 'use': 3, 'product': 4, 'would': 5, 'like': 6, 'good': 7, 'well': 8, 'get': 9, 'used': 10, 'great': 11, 'work': 12, 'time': 13, 'much': 14, 'better': 15, 'really': 16, 'also': 17, 'works': 18, 'light': 19, 'battery': 20, 'using': 21, '2': 22, 'easy': 23, 'even': 24, 'little': 25, 'water': 26, 'need': 27, 'back': 28, 'fit': 29, 'make': 30, '34': 31, 'bought': 32, 'first': 33, 'price': 34, '1': 35, 'two': 36, 'see': 37, 'buy': 38, 'made': 39, '3': 40, 'oil': 41, 'way': 42, 'wax': 43, 'could': 44, 'long': 45, 'nice': 46, 'quality': 47, 'sure': 48, 'put': 49, 'still': 50, 'plastic': 51, 'look': 52, 'new': 53, 'go': 54, 'keep': 55, '5': 56, 'enough': 57, 'clean': 58, 'job': 59, 'small': 60, 'last': 61, 'blade': 62, 'think': 63, 'amazon': 64, 'got': 65, '4': 66, 'wiper': 67, 'recommend': 68, 'side': 69, 'tire': 70, 'right': 71, 'vehicle': 72, 'bit': 73, 'old': 74, 'thing': 75, 'paint': 76, 'around': 77, 'want': 78, 'lot': 79, 'products': 80, 'filter': 81, 'another': 82, 'since': 83, 'however': 84, 'fine': 85, 'unit': 86, 'leather': 87, 'wash': 88, 'know': 89, 'tried': 90, 'power': 91, 'years': 92, 'blades': 93, 'cars': 94, 'best': 95, 'end': 96, 'may': 97, 'seems': 98, 'stuff': 99, 'say': 100, 'without': 101, 'bulbs': 102, 'makes': 103, 'install': 104, 'lights': 105, 'problem': 106, 'air': 107, 'going': 108, 'hard': 109, 'find': 110, 'less': 111, 'tool': 112, 'try': 113, 'something': 114, 'many': 115, 'never': 116, 'towels': 117, 'found': 118, 'black': 119, 'remove': 120, 'kit': 121, 'worked': 122, 'spray': 123, 'high': 124, 'take': 125, 'though': 126, 'far': 127, 'different': 128, 'set': 129, 'cleaning': 130, 'windshield': 131, 'easily': 132, 'looks': 133, 'pretty': 134, 'size': 135, 'top': 136, 'looking': 137}\n"
     ]
    }
   ],
   "source": [
    "# print('sequences : ',sequences[:2],'\\n')\n",
    "\n",
    "\n",
    "# N = len([item for sublist in sequences[:2] for item in sublist])\n",
    "\n",
    "# print('word_index : ',{k: t.word_index[k] for k in list(t.word_index)[:N]})\n"
   ]
  },
  {
   "cell_type": "code",
   "execution_count": 11,
   "id": "bfeb91fa",
   "metadata": {},
   "outputs": [],
   "source": [
    "# len_mat=[]\n",
    "# for i in range(len(sequences)):\n",
    "#     len_mat.append(len(sequences[i]))"
   ]
  },
  {
   "cell_type": "code",
   "execution_count": 12,
   "id": "00f5af67",
   "metadata": {},
   "outputs": [
    {
     "data": {
      "text/plain": [
       "5156"
      ]
     },
     "execution_count": 12,
     "metadata": {},
     "output_type": "execute_result"
    }
   ],
   "source": [
    "# len(len_mat)"
   ]
  },
  {
   "cell_type": "code",
   "execution_count": 23,
   "id": "327b08b2",
   "metadata": {},
   "outputs": [
    {
     "name": "stdout",
     "output_type": "stream",
     "text": [
      "Average length of each review :  48.649728471683474\n",
      "Percentage of reviews with positive sentiment is 50.0%\n",
      "Percentage of reviews with negative sentiment is 50.0%\n"
     ]
    }
   ],
   "source": [
    "s = 0.0\n",
    "for i in sample_df['reviewText']:\n",
    "    word_list = i.split()\n",
    "    s = s + len(word_list)\n",
    "print(\"Average length of each review : \",s/sample_df.shape[0])\n",
    "pos = 0\n",
    "for i in range(sample_df.shape[0]):\n",
    "    if sample_df.iloc[i]['positive'] == 1:\n",
    "        pos = pos + 1\n",
    "neg = sample_df.shape[0]-pos\n",
    "print(\"Percentage of reviews with positive sentiment is \"+str(pos/sample_df.shape[0]*100)+\"%\")\n",
    "print(\"Percentage of reviews with negative sentiment is \"+str(neg/sample_df.shape[0]*100)+\"%\")\n"
   ]
  },
  {
   "cell_type": "markdown",
   "id": "bbaebc0d",
   "metadata": {},
   "source": [
    "# Build LSTM Model"
   ]
  },
  {
   "cell_type": "code",
   "execution_count": 39,
   "id": "5b5aa467",
   "metadata": {},
   "outputs": [
    {
     "name": "stdout",
     "output_type": "stream",
     "text": [
      "Model: \"sequential_6\"\n",
      "_________________________________________________________________\n",
      " Layer (type)                Output Shape              Param #   \n",
      "=================================================================\n",
      " embedding_6 (Embedding)     (None, 894, 64)           128000    \n",
      "                                                                 \n",
      " spatial_dropout1d_4 (Spatia  (None, 894, 64)          0         \n",
      " lDropout1D)                                                     \n",
      "                                                                 \n",
      " lstm_6 (LSTM)               (None, 16)                5184      \n",
      "                                                                 \n",
      " dense_6 (Dense)             (None, 1)                 17        \n",
      "                                                                 \n",
      "=================================================================\n",
      "Total params: 133,201\n",
      "Trainable params: 133,201\n",
      "Non-trainable params: 0\n",
      "_________________________________________________________________\n",
      "None\n"
     ]
    }
   ],
   "source": [
    "max_features = 2000\n",
    "embed_dim = 64\n",
    "lstm_out = 16\n",
    "\n",
    "model = Sequential()\n",
    "model.add(Embedding(max_features, embed_dim,input_length = X.shape[1]))\n",
    "model.add(SpatialDropout1D(0.4))\n",
    "model.add(LSTM(lstm_out, dropout=0.2, recurrent_dropout=0.2))\n",
    "model.add(Dense(1,activation='sigmoid',trainable=True))\n",
    "model.compile(loss = 'binary_crossentropy', optimizer='adam', metrics = ['accuracy'])\n",
    "\n",
    "print(model.summary())"
   ]
  },
  {
   "cell_type": "code",
   "execution_count": 40,
   "id": "2fda72d0",
   "metadata": {},
   "outputs": [
    {
     "name": "stdout",
     "output_type": "stream",
     "text": [
      "(4124, 894) (4124,)\n",
      "(1032, 894) (1032,)\n"
     ]
    }
   ],
   "source": [
    "y = sample_df['positive']\n",
    "X_train, X_test, Y_train, Y_test = train_test_split(X,y, test_size = 0.2)\n",
    "\n",
    "print(X_train.shape, Y_train.shape)\n",
    "print(X_test.shape, Y_test.shape)\n",
    "\n"
   ]
  },
  {
   "cell_type": "code",
   "execution_count": null,
   "id": "7694f378",
   "metadata": {},
   "outputs": [
    {
     "name": "stdout",
     "output_type": "stream",
     "text": [
      "Epoch 1/6\n",
      "129/129 [==============================] - 63s 475ms/step - loss: 0.6635 - accuracy: 0.6062 - val_loss: 0.5902 - val_accuracy: 0.6967\n",
      "Epoch 2/6\n",
      "129/129 [==============================] - 60s 465ms/step - loss: 0.4952 - accuracy: 0.7653 - val_loss: 0.5576 - val_accuracy: 0.7083\n",
      "Epoch 3/6\n",
      "129/129 [==============================] - 58s 447ms/step - loss: 0.4065 - accuracy: 0.8167 - val_loss: 0.5761 - val_accuracy: 0.7238\n",
      "Epoch 4/6\n",
      "129/129 [==============================] - 57s 444ms/step - loss: 0.3494 - accuracy: 0.8511 - val_loss: 0.6230 - val_accuracy: 0.7132\n",
      "Epoch 5/6\n",
      " 41/129 [========>.....................] - ETA: 37s - loss: 0.3045 - accuracy: 0.8834"
     ]
    }
   ],
   "source": [
    "batch_size = 32\n",
    "model.fit(X_train, Y_train, \n",
    "          epochs = 6,\n",
    "          batch_size = batch_size,\n",
    "          validation_data = (X_test, Y_test),\n",
    "          callbacks = [EarlyStopping(monitor='val_accuracy', min_delta = 0.001, patience=2,verbose=2)])"
   ]
  },
  {
   "cell_type": "code",
   "execution_count": null,
   "id": "7efc6147",
   "metadata": {},
   "outputs": [],
   "source": []
  }
 ],
 "metadata": {
  "kernelspec": {
   "display_name": "Python 3 (ipykernel)",
   "language": "python",
   "name": "python3"
  },
  "language_info": {
   "codemirror_mode": {
    "name": "ipython",
    "version": 3
   },
   "file_extension": ".py",
   "mimetype": "text/x-python",
   "name": "python",
   "nbconvert_exporter": "python",
   "pygments_lexer": "ipython3",
   "version": "3.9.7"
  }
 },
 "nbformat": 4,
 "nbformat_minor": 5
}
